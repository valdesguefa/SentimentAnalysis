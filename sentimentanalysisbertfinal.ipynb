{
 "cells": [
  {
   "cell_type": "markdown",
   "id": "0a0a2a5f",
   "metadata": {
    "id": "EKOTlwcmxmej",
    "papermill": {
     "duration": 0.024554,
     "end_time": "2022-06-28T20:38:31.854799",
     "exception": false,
     "start_time": "2022-06-28T20:38:31.830245",
     "status": "completed"
    },
    "tags": []
   },
   "source": [
    "# BERT Fine-Tuning  with PyTorch\n",
    "\n",
    "By Guefa nguimnang valdes"
   ]
  },
  {
   "cell_type": "code",
   "execution_count": 1,
   "id": "b09ed947",
   "metadata": {
    "execution": {
     "iopub.execute_input": "2022-06-28T20:38:31.893306Z",
     "iopub.status.busy": "2022-06-28T20:38:31.892785Z",
     "iopub.status.idle": "2022-06-28T20:38:38.863458Z",
     "shell.execute_reply": "2022-06-28T20:38:38.861810Z"
    },
    "id": "DEfSbAA4QHas",
    "outputId": "c27153c6-a1b4-4648-db1a-51a7f7f64d20",
    "papermill": {
     "duration": 6.995045,
     "end_time": "2022-06-28T20:38:38.867366",
     "exception": false,
     "start_time": "2022-06-28T20:38:31.872321",
     "status": "completed"
    },
    "tags": []
   },
   "outputs": [
    {
     "name": "stdout",
     "output_type": "stream",
     "text": [
      "Found GPU at: /device:GPU:0\n"
     ]
    },
    {
     "name": "stderr",
     "output_type": "stream",
     "text": [
      "2022-06-28 20:38:36.420197: I tensorflow/core/platform/cpu_feature_guard.cc:142] This TensorFlow binary is optimized with oneAPI Deep Neural Network Library (oneDNN) to use the following CPU instructions in performance-critical operations:  AVX2 AVX512F FMA\n",
      "To enable them in other operations, rebuild TensorFlow with the appropriate compiler flags.\n",
      "2022-06-28 20:38:36.478328: I tensorflow/stream_executor/cuda/cuda_gpu_executor.cc:937] successful NUMA node read from SysFS had negative value (-1), but there must be at least one NUMA node, so returning NUMA node zero\n",
      "2022-06-28 20:38:36.607325: I tensorflow/stream_executor/cuda/cuda_gpu_executor.cc:937] successful NUMA node read from SysFS had negative value (-1), but there must be at least one NUMA node, so returning NUMA node zero\n",
      "2022-06-28 20:38:36.608048: I tensorflow/stream_executor/cuda/cuda_gpu_executor.cc:937] successful NUMA node read from SysFS had negative value (-1), but there must be at least one NUMA node, so returning NUMA node zero\n",
      "2022-06-28 20:38:38.851283: I tensorflow/stream_executor/cuda/cuda_gpu_executor.cc:937] successful NUMA node read from SysFS had negative value (-1), but there must be at least one NUMA node, so returning NUMA node zero\n",
      "2022-06-28 20:38:38.852127: I tensorflow/stream_executor/cuda/cuda_gpu_executor.cc:937] successful NUMA node read from SysFS had negative value (-1), but there must be at least one NUMA node, so returning NUMA node zero\n",
      "2022-06-28 20:38:38.852798: I tensorflow/stream_executor/cuda/cuda_gpu_executor.cc:937] successful NUMA node read from SysFS had negative value (-1), but there must be at least one NUMA node, so returning NUMA node zero\n",
      "2022-06-28 20:38:38.853396: I tensorflow/core/common_runtime/gpu/gpu_device.cc:1510] Created device /device:GPU:0 with 15403 MB memory:  -> device: 0, name: Tesla P100-PCIE-16GB, pci bus id: 0000:00:04.0, compute capability: 6.0\n"
     ]
    }
   ],
   "source": [
    "import tensorflow as tf\n",
    "\n",
    "# Get the GPU device name.\n",
    "device_name = tf.test.gpu_device_name()\n",
    "\n",
    "# The device name should look like the following:\n",
    "if device_name == '/device:GPU:0':\n",
    "    print('Found GPU at: {}'.format(device_name))\n",
    "else:\n",
    "    raise SystemError('GPU device not found')"
   ]
  },
  {
   "cell_type": "markdown",
   "id": "52412d82",
   "metadata": {
    "id": "cqG7FzRVFEIv",
    "papermill": {
     "duration": 0.018036,
     "end_time": "2022-06-28T20:38:38.903245",
     "exception": false,
     "start_time": "2022-06-28T20:38:38.885209",
     "status": "completed"
    },
    "tags": []
   },
   "source": [
    "In order for torch to use the GPU, we need to identify and specify the GPU as the device. Later, in our training loop, we will load data onto the device. "
   ]
  },
  {
   "cell_type": "code",
   "execution_count": 2,
   "id": "c71426d9",
   "metadata": {
    "execution": {
     "iopub.execute_input": "2022-06-28T20:38:38.941661Z",
     "iopub.status.busy": "2022-06-28T20:38:38.941062Z",
     "iopub.status.idle": "2022-06-28T20:38:43.139757Z",
     "shell.execute_reply": "2022-06-28T20:38:43.138376Z"
    },
    "id": "oYsV4H8fCpZ-",
    "outputId": "cbe3f5ca-9b88-438d-e519-7283fc2f2be6",
    "papermill": {
     "duration": 4.220267,
     "end_time": "2022-06-28T20:38:43.141856",
     "exception": false,
     "start_time": "2022-06-28T20:38:38.921589",
     "status": "completed"
    },
    "tags": []
   },
   "outputs": [
    {
     "name": "stdout",
     "output_type": "stream",
     "text": [
      "There are 1 GPU(s) available.\n",
      "We will use the GPU: Tesla P100-PCIE-16GB\n"
     ]
    }
   ],
   "source": [
    "import torch\n",
    "\n",
    "# If there's a GPU available...\n",
    "if torch.cuda.is_available():    \n",
    "\n",
    "    # Tell PyTorch to use the GPU.    \n",
    "    device = torch.device(\"cuda\")\n",
    "\n",
    "    print('There are %d GPU(s) available.' % torch.cuda.device_count())\n",
    "\n",
    "    print('We will use the GPU:', torch.cuda.get_device_name(0))\n",
    "\n",
    "# If not...\n",
    "else:\n",
    "    print('No GPU available, using the CPU instead.')\n",
    "    device = torch.device(\"cpu\")"
   ]
  },
  {
   "cell_type": "markdown",
   "id": "a1b0e3a7",
   "metadata": {
    "id": "2ElsnSNUridI",
    "papermill": {
     "duration": 0.018098,
     "end_time": "2022-06-28T20:38:43.177991",
     "exception": false,
     "start_time": "2022-06-28T20:38:43.159893",
     "status": "completed"
    },
    "tags": []
   },
   "source": [
    "## 1.2. Installing the Hugging Face Library\n"
   ]
  },
  {
   "cell_type": "code",
   "execution_count": 3,
   "id": "7d28cc29",
   "metadata": {
    "execution": {
     "iopub.execute_input": "2022-06-28T20:38:43.215354Z",
     "iopub.status.busy": "2022-06-28T20:38:43.214485Z",
     "iopub.status.idle": "2022-06-28T20:38:54.438287Z",
     "shell.execute_reply": "2022-06-28T20:38:54.436997Z"
    },
    "id": "0NmMdkZO8R6q",
    "outputId": "4ab2a349-9f01-4c47-ebdc-5da2ef2e8c84",
    "papermill": {
     "duration": 11.245698,
     "end_time": "2022-06-28T20:38:54.441042",
     "exception": false,
     "start_time": "2022-06-28T20:38:43.195344",
     "status": "completed"
    },
    "tags": []
   },
   "outputs": [
    {
     "name": "stdout",
     "output_type": "stream",
     "text": [
      "Requirement already satisfied: transformers in /opt/conda/lib/python3.7/site-packages (4.18.0)\r\n",
      "Requirement already satisfied: tqdm>=4.27 in /opt/conda/lib/python3.7/site-packages (from transformers) (4.64.0)\r\n",
      "Requirement already satisfied: numpy>=1.17 in /opt/conda/lib/python3.7/site-packages (from transformers) (1.21.6)\r\n",
      "Requirement already satisfied: huggingface-hub<1.0,>=0.1.0 in /opt/conda/lib/python3.7/site-packages (from transformers) (0.7.0)\r\n",
      "Requirement already satisfied: requests in /opt/conda/lib/python3.7/site-packages (from transformers) (2.27.1)\r\n",
      "Requirement already satisfied: tokenizers!=0.11.3,<0.13,>=0.11.1 in /opt/conda/lib/python3.7/site-packages (from transformers) (0.12.1)\r\n",
      "Requirement already satisfied: pyyaml>=5.1 in /opt/conda/lib/python3.7/site-packages (from transformers) (6.0)\r\n",
      "Requirement already satisfied: regex!=2019.12.17 in /opt/conda/lib/python3.7/site-packages (from transformers) (2021.11.10)\r\n",
      "Requirement already satisfied: sacremoses in /opt/conda/lib/python3.7/site-packages (from transformers) (0.0.53)\r\n",
      "Requirement already satisfied: filelock in /opt/conda/lib/python3.7/site-packages (from transformers) (3.6.0)\r\n",
      "Requirement already satisfied: importlib-metadata in /opt/conda/lib/python3.7/site-packages (from transformers) (4.11.4)\r\n",
      "Requirement already satisfied: packaging>=20.0 in /opt/conda/lib/python3.7/site-packages (from transformers) (21.3)\r\n",
      "Requirement already satisfied: typing-extensions>=3.7.4.3 in /opt/conda/lib/python3.7/site-packages (from huggingface-hub<1.0,>=0.1.0->transformers) (4.1.1)\r\n",
      "Requirement already satisfied: pyparsing!=3.0.5,>=2.0.2 in /opt/conda/lib/python3.7/site-packages (from packaging>=20.0->transformers) (3.0.9)\r\n",
      "Requirement already satisfied: zipp>=0.5 in /opt/conda/lib/python3.7/site-packages (from importlib-metadata->transformers) (3.8.0)\r\n",
      "Requirement already satisfied: idna<4,>=2.5 in /opt/conda/lib/python3.7/site-packages (from requests->transformers) (3.3)\r\n",
      "Requirement already satisfied: charset-normalizer~=2.0.0 in /opt/conda/lib/python3.7/site-packages (from requests->transformers) (2.0.12)\r\n",
      "Requirement already satisfied: urllib3<1.27,>=1.21.1 in /opt/conda/lib/python3.7/site-packages (from requests->transformers) (1.26.9)\r\n",
      "Requirement already satisfied: certifi>=2017.4.17 in /opt/conda/lib/python3.7/site-packages (from requests->transformers) (2022.6.15)\r\n",
      "Requirement already satisfied: click in /opt/conda/lib/python3.7/site-packages (from sacremoses->transformers) (8.0.4)\r\n",
      "Requirement already satisfied: joblib in /opt/conda/lib/python3.7/site-packages (from sacremoses->transformers) (1.1.0)\r\n",
      "Requirement already satisfied: six in /opt/conda/lib/python3.7/site-packages (from sacremoses->transformers) (1.16.0)\r\n",
      "\u001b[33mWARNING: Running pip as the 'root' user can result in broken permissions and conflicting behaviour with the system package manager. It is recommended to use a virtual environment instead: https://pip.pypa.io/warnings/venv\u001b[0m\u001b[33m\r\n",
      "\u001b[0m"
     ]
    }
   ],
   "source": [
    "!pip install transformers"
   ]
  },
  {
   "cell_type": "markdown",
   "id": "d69c45fd",
   "metadata": {
    "id": "oQUy9Tat2EF_",
    "papermill": {
     "duration": 0.020482,
     "end_time": "2022-06-28T20:38:54.483484",
     "exception": false,
     "start_time": "2022-06-28T20:38:54.463002",
     "status": "completed"
    },
    "tags": []
   },
   "source": [
    "## 2.2. Parse"
   ]
  },
  {
   "cell_type": "markdown",
   "id": "c598ddb9",
   "metadata": {
    "id": "xeyVCXT31EZQ",
    "papermill": {
     "duration": 0.021125,
     "end_time": "2022-06-28T20:38:54.524534",
     "exception": false,
     "start_time": "2022-06-28T20:38:54.503409",
     "status": "completed"
    },
    "tags": []
   },
   "source": [
    "We can see from the file names that both `tokenized` and `raw` versions of the data are available. \n",
    "\n",
    "We can't use the pre-tokenized version because, in order to apply the pre-trained BERT, we *must* use the tokenizer provided by the model. This is because (1) the model has a specific, fixed vocabulary and (2) the BERT tokenizer has a particular way of handling out-of-vocabulary words."
   ]
  },
  {
   "cell_type": "markdown",
   "id": "f6dc4d30",
   "metadata": {
    "id": "MYWzeGSY2xh3",
    "papermill": {
     "duration": 0.019945,
     "end_time": "2022-06-28T20:38:54.564427",
     "exception": false,
     "start_time": "2022-06-28T20:38:54.544482",
     "status": "completed"
    },
    "tags": []
   },
   "source": [
    "We'll use pandas to parse the \"in-domain\" training set and look at a few of its properties and data points."
   ]
  },
  {
   "cell_type": "markdown",
   "id": "93ee3299",
   "metadata": {
    "papermill": {
     "duration": 0.019925,
     "end_time": "2022-06-28T20:38:54.603998",
     "exception": false,
     "start_time": "2022-06-28T20:38:54.584073",
     "status": "completed"
    },
    "tags": []
   },
   "source": [
    "## 2.1. Download & Extract"
   ]
  },
  {
   "cell_type": "code",
   "execution_count": 4,
   "id": "1466d051",
   "metadata": {
    "execution": {
     "iopub.execute_input": "2022-06-28T20:38:54.646536Z",
     "iopub.status.busy": "2022-06-28T20:38:54.646085Z",
     "iopub.status.idle": "2022-06-28T20:40:22.535962Z",
     "shell.execute_reply": "2022-06-28T20:40:22.534834Z"
    },
    "papermill": {
     "duration": 87.914209,
     "end_time": "2022-06-28T20:40:22.538539",
     "exception": false,
     "start_time": "2022-06-28T20:38:54.624330",
     "status": "completed"
    },
    "tags": []
   },
   "outputs": [
    {
     "name": "stdout",
     "output_type": "stream",
     "text": [
      "Collecting package metadata (current_repodata.json): - \b\b\\ \b\b| \b\b/ \b\b- \b\b\\ \b\b| \b\b/ \b\b- \b\b\\ \b\b| \b\b/ \b\b- \b\b\\ \b\b| \b\b/ \b\b- \b\b\\ \b\b| \b\b/ \b\b- \b\b\\ \b\b| \b\b/ \b\b- \b\b\\ \b\b| \b\b/ \b\b- \b\b\\ \b\b| \b\b/ \b\b- \b\b\\ \b\b| \b\b/ \b\b- \b\b\\ \b\b| \b\b/ \b\b- \b\b\\ \b\b| \b\b/ \b\b- \b\b\\ \b\b| \b\b/ \b\b- \b\b\\ \b\b| \b\b/ \b\b- \b\b\\ \b\b| \b\b/ \b\b- \b\b\\ \b\b| \b\b/ \b\b- \b\b\\ \b\b| \b\b/ \b\b- \b\b\\ \b\b| \b\b/ \b\b- \b\b\\ \b\b| \b\b/ \b\b- \b\b\\ \b\b| \b\b/ \b\b- \b\b\\ \b\b| \b\b/ \b\b- \b\b\\ \b\b| \b\b/ \b\b- \b\b\\ \b\b| \b\b/ \b\b- \b\b\\ \b\b| \b\b/ \b\b- \b\b\\ \b\b| \b\b/ \b\b- \b\b\\ \b\b| \b\b/ \b\b- \b\b\\ \b\b| \b\b/ \b\b- \b\b\\ \b\b| \b\b/ \b\b- \b\b\\ \b\b| \b\b/ \b\b- \b\b\\ \b\b| \b\b/ \b\b- \b\b\\ \b\b| \b\b/ \b\b- \b\b\\ \b\b| \b\b/ \b\b- \b\b\\ \b\b| \b\b/ \b\b- \b\b\\ \b\b| \b\b/ \b\b- \b\b\\ \b\b| \b\b/ \b\b- \b\b\\ \b\b| \b\b/ \b\b- \b\b\\ \b\b| \b\b/ \b\b- \b\b\\ \b\b| \b\b/ \b\b- \b\b\\ \b\b| \b\b/ \b\b- \b\b\\ \b\b| \b\b/ \b\b- \b\b\\ \b\b| \b\b/ \b\b- \b\b\\ \b\b| \b\b/ \b\b- \b\b\\ \b\b| \b\b/ \b\b- \b\b\\ \b\b| \b\b/ \b\b- \b\b\\ \b\b| \b\b/ \b\b- \b\b\\ \b\b| \b\b/ \b\b- \b\b\\ \b\b| \b\b/ \b\b- \b\b\\ \b\b| \b\b/ \b\b- \b\b\\ \b\b| \b\b/ \b\b- \b\b\\ \b\b| \b\b/ \b\b- \b\b\\ \b\b| \b\b/ \b\b- \b\b\\ \b\b| \b\b/ \b\b- \b\b\\ \b\b| \b\b/ \b\b- \b\b\\ \b\b| \b\b/ \b\b- \b\b\\ \b\b| \b\b/ \b\b- \b\b\\ \b\b| \b\b/ \b\b- \b\b\\ \b\b| \b\b/ \b\b- \b\b\\ \b\b| \b\b/ \b\b- \b\b\\ \b\b| \b\b/ \b\b- \b\b\\ \b\b| \b\b/ \b\b- \b\b\\ \b\b| \b\b/ \b\b- \b\b\\ \b\b| \b\bdone\r\n",
      "Solving environment: - \b\b\\ \b\b| \b\b/ \b\b- \b\b\\ \b\b| \b\b/ \b\b- \b\b\\ \b\b| \b\b/ \b\b- \b\b\\ \b\b| \b\b/ \b\b- \b\b\\ \b\b| \b\b/ \b\b- \b\b\\ \b\b| \b\b/ \b\b- \b\b\\ \b\b| \b\b/ \b\b- \b\b\\ \b\b| \b\b/ \b\b- \b\b\\ \b\b| \b\b/ \b\b- \b\b\\ \b\b| \b\b/ \b\b- \b\b\\ \b\b| \b\b/ \b\b- \b\b\\ \b\b| \b\b/ \b\b- \b\b\\ \b\b| \b\b/ \b\b- \b\b\\ \b\b| \b\b/ \b\b- \b\b\\ \b\b| \b\b/ \b\b- \b\b\\ \b\b| \b\b/ \b\b- \b\b\\ \b\b| \b\b/ \b\b- \b\b\\ \b\b| \b\b/ \b\b- \b\b\\ \b\b| \b\b/ \b\b- \b\b\\ \b\b| \b\b/ \b\b- \b\b\\ \b\b| \b\b/ \b\b- \b\b\\ \b\b| \b\b/ \b\b- \b\b\\ \b\b| \b\b/ \b\b- \b\b\\ \b\b| \b\b/ \b\b- \b\b\\ \b\b| \b\b/ \b\b- \b\b\\ \b\b| \b\b/ \b\b- \b\b\\ \b\b| \b\b/ \b\b- \b\b\\ \b\b| \b\b/ \b\b- \b\b\\ \b\b| \b\b/ \b\b- \b\b\\ \b\b| \b\b/ \b\b- \b\b\\ \b\b| \b\b/ \b\b- \b\b\\ \b\b| \b\b/ \b\b- \b\bdone\r\n",
      "\r\n",
      "## Package Plan ##\r\n",
      "\r\n",
      "  environment location: /opt/conda\r\n",
      "\r\n",
      "  added / updated specs:\r\n",
      "    - gdown\r\n",
      "\r\n",
      "\r\n",
      "The following packages will be downloaded:\r\n",
      "\r\n",
      "    package                    |            build\r\n",
      "    ---------------------------|-----------------\r\n",
      "    filelock-3.7.1             |     pyhd8ed1ab_0          12 KB  conda-forge\r\n",
      "    gdown-4.4.0                |     pyhd8ed1ab_0          16 KB  conda-forge\r\n",
      "    openssl-1.1.1p             |       h166bdaf_0         2.1 MB  conda-forge\r\n",
      "    ------------------------------------------------------------\r\n",
      "                                           Total:         2.1 MB\r\n",
      "\r\n",
      "The following NEW packages will be INSTALLED:\r\n",
      "\r\n",
      "  filelock           conda-forge/noarch::filelock-3.7.1-pyhd8ed1ab_0\r\n",
      "  gdown              conda-forge/noarch::gdown-4.4.0-pyhd8ed1ab_0\r\n",
      "\r\n",
      "The following packages will be UPDATED:\r\n",
      "\r\n",
      "  openssl                                 1.1.1o-h166bdaf_0 --> 1.1.1p-h166bdaf_0\r\n",
      "\r\n",
      "\r\n",
      "\r\n",
      "Downloading and Extracting Packages\r\n",
      "openssl-1.1.1p       | 2.1 MB    | ##################################### | 100% \r\n",
      "filelock-3.7.1       | 12 KB     | ##################################### | 100% \r\n",
      "gdown-4.4.0          | 16 KB     | ##################################### | 100% \r\n",
      "Preparing transaction: | \b\bdone\r\n",
      "Verifying transaction: - \b\b\\ \b\bdone\r\n",
      "Executing transaction: / \b\b- \b\b\\ \b\b| \b\b/ \b\b- \b\b\\ \b\b| \b\b/ \b\b- \b\b\\ \b\b| \b\b/ \b\b- \b\b\\ \b\b| \b\bdone\r\n",
      "Requirement already satisfied: gdown in /opt/conda/lib/python3.7/site-packages (4.4.0)\r\n",
      "Requirement already satisfied: six in /opt/conda/lib/python3.7/site-packages (from gdown) (1.16.0)\r\n",
      "Requirement already satisfied: tqdm in /opt/conda/lib/python3.7/site-packages (from gdown) (4.64.0)\r\n",
      "Requirement already satisfied: filelock in /opt/conda/lib/python3.7/site-packages (from gdown) (3.7.1)\r\n",
      "Requirement already satisfied: beautifulsoup4 in /opt/conda/lib/python3.7/site-packages (from gdown) (4.11.1)\r\n",
      "Requirement already satisfied: requests[socks] in /opt/conda/lib/python3.7/site-packages (from gdown) (2.27.1)\r\n",
      "Requirement already satisfied: soupsieve>1.2 in /opt/conda/lib/python3.7/site-packages (from beautifulsoup4->gdown) (2.3.1)\r\n",
      "Requirement already satisfied: certifi>=2017.4.17 in /opt/conda/lib/python3.7/site-packages (from requests[socks]->gdown) (2022.6.15)\r\n",
      "Requirement already satisfied: urllib3<1.27,>=1.21.1 in /opt/conda/lib/python3.7/site-packages (from requests[socks]->gdown) (1.26.9)\r\n",
      "Requirement already satisfied: idna<4,>=2.5 in /opt/conda/lib/python3.7/site-packages (from requests[socks]->gdown) (3.3)\r\n",
      "Requirement already satisfied: charset-normalizer~=2.0.0 in /opt/conda/lib/python3.7/site-packages (from requests[socks]->gdown) (2.0.12)\r\n",
      "Requirement already satisfied: PySocks!=1.5.7,>=1.5.6 in /opt/conda/lib/python3.7/site-packages (from requests[socks]->gdown) (1.7.1)\r\n",
      "\u001b[33mWARNING: Running pip as the 'root' user can result in broken permissions and conflicting behaviour with the system package manager. It is recommended to use a virtual environment instead: https://pip.pypa.io/warnings/venv\u001b[0m\u001b[33m\r\n",
      "\u001b[0mDownloading...\r\n",
      "From: https://drive.google.com/uc?id=1MVo6FYsROImYWwOP5tPbydSaACkc4Hyx\r\n",
      "To: /kaggle/working/IMDB_Dataset.csv\r\n",
      "100%|███████████████████████████████████████| 66.5M/66.5M [00:00<00:00, 141MB/s]\r\n"
     ]
    }
   ],
   "source": [
    "#Setup Gdrive file download extention  https://drive.google.com/file/d/1MVo6FYsROImYWwOP5tPbydSaACkc4Hyx/view?usp=sharing\n",
    "!conda install -y gdown\n",
    "!pip install gdown\n",
    "!gdown https://drive.google.com/uc?id=1MVo6FYsROImYWwOP5tPbydSaACkc4Hyx"
   ]
  },
  {
   "cell_type": "code",
   "execution_count": 5,
   "id": "91502f48",
   "metadata": {
    "execution": {
     "iopub.execute_input": "2022-06-28T20:40:22.623372Z",
     "iopub.status.busy": "2022-06-28T20:40:22.623031Z",
     "iopub.status.idle": "2022-06-28T20:40:25.600487Z",
     "shell.execute_reply": "2022-06-28T20:40:25.599544Z"
    },
    "papermill": {
     "duration": 3.02225,
     "end_time": "2022-06-28T20:40:25.602832",
     "exception": false,
     "start_time": "2022-06-28T20:40:22.580582",
     "status": "completed"
    },
    "tags": []
   },
   "outputs": [],
   "source": [
    "#Load the libraries\n",
    "import numpy as np\n",
    "import pandas as pd\n",
    "import seaborn as sns\n",
    "import matplotlib.pyplot as plt\n",
    "import nltk\n",
    "from sklearn.feature_extraction.text import CountVectorizer\n",
    "from sklearn.feature_extraction.text import TfidfVectorizer\n",
    "from sklearn.preprocessing import LabelBinarizer\n",
    "from nltk.corpus import stopwords\n",
    "from nltk.stem.porter import PorterStemmer\n",
    "from wordcloud import WordCloud,STOPWORDS\n",
    "from nltk.stem import WordNetLemmatizer\n",
    "from nltk.tokenize import word_tokenize,sent_tokenize\n",
    "from bs4 import BeautifulSoup\n",
    "import spacy\n",
    "import re,string,unicodedata\n",
    "from nltk.tokenize.toktok import ToktokTokenizer\n",
    "from nltk.stem import LancasterStemmer,WordNetLemmatizer\n",
    "from sklearn.linear_model import LogisticRegression,SGDClassifier\n",
    "\n",
    "from sklearn.model_selection import train_test_split\n",
    "from sklearn.naive_bayes import MultinomialNB\n",
    "from sklearn.svm import SVC\n",
    "from textblob import TextBlob\n",
    "from textblob import Word\n",
    "from sklearn.metrics import classification_report,confusion_matrix,accuracy_score\n",
    "from PIL import ImageFont\n",
    "import os\n",
    "#print(os.listdir(\"../input\"))\n",
    "from sklearn.tree import DecisionTreeClassifier\n",
    "from sklearn.ensemble import (RandomForestClassifier, ExtraTreesClassifier,\n",
    "                              AdaBoostClassifier)\n",
    "\n",
    "from sklearn.model_selection import GridSearchCV\n",
    "font = ImageFont.load_default()"
   ]
  },
  {
   "cell_type": "code",
   "execution_count": null,
   "id": "d325eb54",
   "metadata": {
    "papermill": {
     "duration": 0.040278,
     "end_time": "2022-06-28T20:40:25.684861",
     "exception": false,
     "start_time": "2022-06-28T20:40:25.644583",
     "status": "completed"
    },
    "tags": []
   },
   "outputs": [],
   "source": []
  },
  {
   "cell_type": "code",
   "execution_count": null,
   "id": "d06aadcc",
   "metadata": {
    "papermill": {
     "duration": 0.040547,
     "end_time": "2022-06-28T20:40:25.767024",
     "exception": false,
     "start_time": "2022-06-28T20:40:25.726477",
     "status": "completed"
    },
    "tags": []
   },
   "outputs": [],
   "source": []
  },
  {
   "cell_type": "code",
   "execution_count": 6,
   "id": "da574615",
   "metadata": {
    "execution": {
     "iopub.execute_input": "2022-06-28T20:40:25.851629Z",
     "iopub.status.busy": "2022-06-28T20:40:25.851268Z",
     "iopub.status.idle": "2022-06-28T20:40:26.486606Z",
     "shell.execute_reply": "2022-06-28T20:40:26.485089Z"
    },
    "id": "_UkeC7SG2krJ",
    "outputId": "540f7e5f-1484-4fd2-c1b3-ee880d16068b",
    "papermill": {
     "duration": 0.680587,
     "end_time": "2022-06-28T20:40:26.489260",
     "exception": false,
     "start_time": "2022-06-28T20:40:25.808673",
     "status": "completed"
    },
    "tags": []
   },
   "outputs": [
    {
     "name": "stdout",
     "output_type": "stream",
     "text": [
      "Number of training sentences: 50,000\n",
      "\n"
     ]
    }
   ],
   "source": [
    "import pandas as pd\n",
    "\n",
    "# Load the dataset into a pandas dataframe.\n",
    "df = pd.read_csv(\"/kaggle/working/IMDB_Dataset.csv\")#, delimiter='\\t', header=None, names=['sentence_source', 'label', 'label_notes', 'sentence'])\n",
    "\n",
    "# Report the number of sentences.\n",
    "print('Number of training sentences: {:,}\\n'.format(df.shape[0]))\n",
    "\n",
    "# Display 10 random rows from the data.\n",
    "#df.sample(10)"
   ]
  },
  {
   "cell_type": "code",
   "execution_count": 7,
   "id": "aab8a5ea",
   "metadata": {
    "execution": {
     "iopub.execute_input": "2022-06-28T20:40:26.574869Z",
     "iopub.status.busy": "2022-06-28T20:40:26.573995Z",
     "iopub.status.idle": "2022-06-28T20:40:26.703807Z",
     "shell.execute_reply": "2022-06-28T20:40:26.702271Z"
    },
    "papermill": {
     "duration": 0.173925,
     "end_time": "2022-06-28T20:40:26.706023",
     "exception": false,
     "start_time": "2022-06-28T20:40:26.532098",
     "status": "completed"
    },
    "tags": []
   },
   "outputs": [
    {
     "name": "stdout",
     "output_type": "stream",
     "text": [
      "[nltk_data] Downloading package stopwords to /usr/share/nltk_data...\n",
      "[nltk_data]   Package stopwords is already up-to-date!\n"
     ]
    }
   ],
   "source": [
    "#Tokenization of text\n",
    "tokenizer=ToktokTokenizer()\n",
    "nltk.download(\"stopwords\")\n",
    "#Setting English stopwords\n",
    "stopword_list=nltk.corpus.stopwords.words('english')\n",
    "\n"
   ]
  },
  {
   "cell_type": "code",
   "execution_count": 8,
   "id": "2b6d3c77",
   "metadata": {
    "execution": {
     "iopub.execute_input": "2022-06-28T20:40:26.790766Z",
     "iopub.status.busy": "2022-06-28T20:40:26.790391Z",
     "iopub.status.idle": "2022-06-28T20:40:36.798101Z",
     "shell.execute_reply": "2022-06-28T20:40:36.797098Z"
    },
    "papermill": {
     "duration": 10.053013,
     "end_time": "2022-06-28T20:40:36.800459",
     "exception": false,
     "start_time": "2022-06-28T20:40:26.747446",
     "status": "completed"
    },
    "tags": []
   },
   "outputs": [
    {
     "name": "stderr",
     "output_type": "stream",
     "text": [
      "/opt/conda/lib/python3.7/site-packages/bs4/__init__.py:439: MarkupResemblesLocatorWarning: The input looks more like a filename than markup. You may want to open this file and pass the filehandle into Beautiful Soup.\n",
      "  MarkupResemblesLocatorWarning\n"
     ]
    }
   ],
   "source": [
    "#Removing the html strips\n",
    "def strip_html(text):\n",
    "    soup = BeautifulSoup(text, \"html.parser\")\n",
    "    return soup.get_text()\n",
    "\n",
    "#Removing the square brackets\n",
    "def remove_between_square_brackets(text):\n",
    "    return re.sub('\\[[^]]*\\]', '', text)\n",
    "\n",
    "#Removing the noisy text\n",
    "def denoise_text(text):\n",
    "    text = strip_html(text)\n",
    "    text = text.lower()\n",
    "    text = remove_between_square_brackets(text)\n",
    "    return text\n",
    "#Apply function on review column\n",
    "df['review']=df['review'].apply(denoise_text)"
   ]
  },
  {
   "cell_type": "code",
   "execution_count": 9,
   "id": "b14631f8",
   "metadata": {
    "execution": {
     "iopub.execute_input": "2022-06-28T20:40:36.884464Z",
     "iopub.status.busy": "2022-06-28T20:40:36.884107Z",
     "iopub.status.idle": "2022-06-28T20:40:39.497620Z",
     "shell.execute_reply": "2022-06-28T20:40:39.496650Z"
    },
    "papermill": {
     "duration": 2.65758,
     "end_time": "2022-06-28T20:40:39.499976",
     "exception": false,
     "start_time": "2022-06-28T20:40:36.842396",
     "status": "completed"
    },
    "tags": []
   },
   "outputs": [],
   "source": [
    "#Define function for removing special characters\n",
    "def remove_special_characters(text, remove_digits=True):\n",
    "    pattern=r'[^a-zA-z0-9\\s]'\n",
    "    text=re.sub(pattern,'',text)\n",
    "    return text\n",
    "\n",
    "#Apply function on review column\n",
    "df['review']=df['review'].apply(remove_special_characters)"
   ]
  },
  {
   "cell_type": "code",
   "execution_count": null,
   "id": "ba698ebd",
   "metadata": {
    "papermill": {
     "duration": 0.041323,
     "end_time": "2022-06-28T20:40:39.583417",
     "exception": false,
     "start_time": "2022-06-28T20:40:39.542094",
     "status": "completed"
    },
    "tags": []
   },
   "outputs": [],
   "source": []
  },
  {
   "cell_type": "code",
   "execution_count": 10,
   "id": "804aa426",
   "metadata": {
    "execution": {
     "iopub.execute_input": "2022-06-28T20:40:39.668071Z",
     "iopub.status.busy": "2022-06-28T20:40:39.667143Z",
     "iopub.status.idle": "2022-06-28T20:40:39.680437Z",
     "shell.execute_reply": "2022-06-28T20:40:39.679569Z"
    },
    "papermill": {
     "duration": 0.058069,
     "end_time": "2022-06-28T20:40:39.682496",
     "exception": false,
     "start_time": "2022-06-28T20:40:39.624427",
     "status": "completed"
    },
    "tags": []
   },
   "outputs": [],
   "source": [
    "#imdb_data.reindex()\n",
    "train,test = train_test_split(df, test_size=0.1,random_state=25, shuffle=True)"
   ]
  },
  {
   "cell_type": "code",
   "execution_count": 11,
   "id": "5d9d002c",
   "metadata": {
    "execution": {
     "iopub.execute_input": "2022-06-28T20:40:39.766831Z",
     "iopub.status.busy": "2022-06-28T20:40:39.766434Z",
     "iopub.status.idle": "2022-06-28T20:40:39.772465Z",
     "shell.execute_reply": "2022-06-28T20:40:39.771443Z"
    },
    "papermill": {
     "duration": 0.051201,
     "end_time": "2022-06-28T20:40:39.774390",
     "exception": false,
     "start_time": "2022-06-28T20:40:39.723189",
     "status": "completed"
    },
    "tags": []
   },
   "outputs": [],
   "source": [
    "train.reset_index(drop=True, inplace=True)\n",
    "test.reset_index(drop=True, inplace=True)"
   ]
  },
  {
   "cell_type": "code",
   "execution_count": null,
   "id": "8b594225",
   "metadata": {
    "papermill": {
     "duration": 0.041149,
     "end_time": "2022-06-28T20:40:39.857226",
     "exception": false,
     "start_time": "2022-06-28T20:40:39.816077",
     "status": "completed"
    },
    "tags": []
   },
   "outputs": [],
   "source": []
  },
  {
   "cell_type": "markdown",
   "id": "e48f2143",
   "metadata": {
    "id": "kfWzpPi92UAH",
    "papermill": {
     "duration": 0.040711,
     "end_time": "2022-06-28T20:40:39.939186",
     "exception": false,
     "start_time": "2022-06-28T20:40:39.898475",
     "status": "completed"
    },
    "tags": []
   },
   "source": [
    "The two properties we actually care about are the the `review` and its `sentiment(label)`, which is referred to as the \" sentiment\" (0=negative, 1=positive)."
   ]
  },
  {
   "cell_type": "markdown",
   "id": "79cde8cb",
   "metadata": {
    "id": "4SMZ5T5Imhlx",
    "papermill": {
     "duration": 0.040253,
     "end_time": "2022-06-28T20:40:40.021503",
     "exception": false,
     "start_time": "2022-06-28T20:40:39.981250",
     "status": "completed"
    },
    "tags": []
   },
   "source": [
    "\n",
    "\n",
    "Let's extract the sentences and labels of our training set as numpy ndarrays."
   ]
  },
  {
   "cell_type": "code",
   "execution_count": 12,
   "id": "b3a3b4ab",
   "metadata": {
    "execution": {
     "iopub.execute_input": "2022-06-28T20:40:40.105670Z",
     "iopub.status.busy": "2022-06-28T20:40:40.105296Z",
     "iopub.status.idle": "2022-06-28T20:40:40.110684Z",
     "shell.execute_reply": "2022-06-28T20:40:40.109795Z"
    },
    "id": "GuE5BqICAne2",
    "papermill": {
     "duration": 0.049785,
     "end_time": "2022-06-28T20:40:40.112633",
     "exception": false,
     "start_time": "2022-06-28T20:40:40.062848",
     "status": "completed"
    },
    "tags": []
   },
   "outputs": [],
   "source": [
    "# Get the lists of sentences and their labels.\n",
    "sentences = train.review.values\n",
    "labels = train.sentiment.values"
   ]
  },
  {
   "cell_type": "markdown",
   "id": "5f4b37aa",
   "metadata": {
    "id": "ex5O1eV-Pfct",
    "papermill": {
     "duration": 0.040938,
     "end_time": "2022-06-28T20:40:40.194092",
     "exception": false,
     "start_time": "2022-06-28T20:40:40.153154",
     "status": "completed"
    },
    "tags": []
   },
   "source": [
    "# 3. Tokenization & Input Formatting\n",
    "\n",
    "In this section, we'll transform our dataset into the format that BERT can be trained on."
   ]
  },
  {
   "cell_type": "markdown",
   "id": "b6364d36",
   "metadata": {
    "id": "-8kEDRvShcU5",
    "papermill": {
     "duration": 0.041618,
     "end_time": "2022-06-28T20:40:40.276934",
     "exception": false,
     "start_time": "2022-06-28T20:40:40.235316",
     "status": "completed"
    },
    "tags": []
   },
   "source": [
    "## 3.1. BERT Tokenizer"
   ]
  },
  {
   "cell_type": "markdown",
   "id": "5ad6e303",
   "metadata": {
    "id": "bWOPOyWghJp2",
    "papermill": {
     "duration": 0.04065,
     "end_time": "2022-06-28T20:40:40.358710",
     "exception": false,
     "start_time": "2022-06-28T20:40:40.318060",
     "status": "completed"
    },
    "tags": []
   },
   "source": [
    "\n",
    "To feed our text to BERT, it must be split into tokens, and then these tokens must be mapped to their index in the tokenizer vocabulary.\n",
    "\n",
    "The tokenization must be performed by the tokenizer included with BERT--the below cell will download this for us. We'll be using the \"uncased\" version here.\n"
   ]
  },
  {
   "cell_type": "code",
   "execution_count": 13,
   "id": "a4f44698",
   "metadata": {
    "execution": {
     "iopub.execute_input": "2022-06-28T20:40:40.442747Z",
     "iopub.status.busy": "2022-06-28T20:40:40.442063Z",
     "iopub.status.idle": "2022-06-28T20:40:43.840795Z",
     "shell.execute_reply": "2022-06-28T20:40:43.839813Z"
    },
    "id": "Z474sSC6oe7A",
    "outputId": "67a34ab4-a607-4c1b-f2af-f8afd4590bb6",
    "papermill": {
     "duration": 3.443452,
     "end_time": "2022-06-28T20:40:43.843200",
     "exception": false,
     "start_time": "2022-06-28T20:40:40.399748",
     "status": "completed"
    },
    "tags": []
   },
   "outputs": [
    {
     "name": "stdout",
     "output_type": "stream",
     "text": [
      "Loading BERT tokenizer...\n"
     ]
    },
    {
     "data": {
      "application/vnd.jupyter.widget-view+json": {
       "model_id": "e11b486e0283493eb6782e58c41f3bd7",
       "version_major": 2,
       "version_minor": 0
      },
      "text/plain": [
       "Downloading:   0%|          | 0.00/226k [00:00<?, ?B/s]"
      ]
     },
     "metadata": {},
     "output_type": "display_data"
    },
    {
     "data": {
      "application/vnd.jupyter.widget-view+json": {
       "model_id": "dcce772ec58c477eaa769d914a43aa10",
       "version_major": 2,
       "version_minor": 0
      },
      "text/plain": [
       "Downloading:   0%|          | 0.00/28.0 [00:00<?, ?B/s]"
      ]
     },
     "metadata": {},
     "output_type": "display_data"
    },
    {
     "data": {
      "application/vnd.jupyter.widget-view+json": {
       "model_id": "695ed950155f4897a555ce0928b90248",
       "version_major": 2,
       "version_minor": 0
      },
      "text/plain": [
       "Downloading:   0%|          | 0.00/570 [00:00<?, ?B/s]"
      ]
     },
     "metadata": {},
     "output_type": "display_data"
    }
   ],
   "source": [
    "from transformers import BertTokenizer\n",
    "\n",
    "# Load the BERT tokenizer.\n",
    "print('Loading BERT tokenizer...')\n",
    "tokenizer = BertTokenizer.from_pretrained('bert-base-uncased', do_lower_case=True)"
   ]
  },
  {
   "cell_type": "markdown",
   "id": "f2229022",
   "metadata": {
    "id": "dFzmtleW6KmJ",
    "papermill": {
     "duration": 0.040985,
     "end_time": "2022-06-28T20:40:43.927036",
     "exception": false,
     "start_time": "2022-06-28T20:40:43.886051",
     "status": "completed"
    },
    "tags": []
   },
   "source": [
    "Let's apply the tokenizer to one sentence just to see the output.\n"
   ]
  },
  {
   "cell_type": "code",
   "execution_count": 14,
   "id": "935ef568",
   "metadata": {
    "execution": {
     "iopub.execute_input": "2022-06-28T20:40:44.012278Z",
     "iopub.status.busy": "2022-06-28T20:40:44.011359Z",
     "iopub.status.idle": "2022-06-28T20:40:44.026150Z",
     "shell.execute_reply": "2022-06-28T20:40:44.025013Z"
    },
    "id": "dLIbudgfh6F0",
    "outputId": "6089066f-dea9-48fe-fa6d-c78d86b336c3",
    "papermill": {
     "duration": 0.060888,
     "end_time": "2022-06-28T20:40:44.029282",
     "exception": false,
     "start_time": "2022-06-28T20:40:43.968394",
     "status": "completed"
    },
    "tags": []
   },
   "outputs": [
    {
     "name": "stdout",
     "output_type": "stream",
     "text": [
      " Original:  i dont know how this movie received so many positive reviews on this site im a big vonnegut fan and am very familiar with the story this showtime original film bastardized beyond belief but even if i wasnt the poor acting very poor casting sean astin as the brilliant athletic and all around individual harrison the guys completely generic and substandard writing rendered this tripe barely watchable someone pointed out how cute that maculay culkin line was if you read that and thought that was pure comic brilliance sadly it probably was the most intentionally funny part of the movie maybe youll like this movie but if youre a vonnegut fan or not completely insane dont see it please\n",
      "Tokenized:  ['i', 'don', '##t', 'know', 'how', 'this', 'movie', 'received', 'so', 'many', 'positive', 'reviews', 'on', 'this', 'site', 'im', 'a', 'big', 'von', '##ne', '##gut', 'fan', 'and', 'am', 'very', 'familiar', 'with', 'the', 'story', 'this', 'showtime', 'original', 'film', 'bastard', '##ized', 'beyond', 'belief', 'but', 'even', 'if', 'i', 'wasn', '##t', 'the', 'poor', 'acting', 'very', 'poor', 'casting', 'sean', 'as', '##tin', 'as', 'the', 'brilliant', 'athletic', 'and', 'all', 'around', 'individual', 'harrison', 'the', 'guys', 'completely', 'generic', 'and', 'sub', '##stand', '##ard', 'writing', 'rendered', 'this', 'trip', '##e', 'barely', 'watch', '##able', 'someone', 'pointed', 'out', 'how', 'cute', 'that', 'mac', '##ula', '##y', 'cu', '##lk', '##in', 'line', 'was', 'if', 'you', 'read', 'that', 'and', 'thought', 'that', 'was', 'pure', 'comic', 'brilliance', 'sadly', 'it', 'probably', 'was', 'the', 'most', 'intentionally', 'funny', 'part', 'of', 'the', 'movie', 'maybe', 'you', '##ll', 'like', 'this', 'movie', 'but', 'if', 'your', '##e', 'a', 'von', '##ne', '##gut', 'fan', 'or', 'not', 'completely', 'insane', 'don', '##t', 'see', 'it', 'please']\n",
      "Token IDs:  [1045, 2123, 2102, 2113, 2129, 2023, 3185, 2363, 2061, 2116, 3893, 4391, 2006, 2023, 2609, 10047, 1037, 2502, 3854, 2638, 27920, 5470, 1998, 2572, 2200, 5220, 2007, 1996, 2466, 2023, 23811, 2434, 2143, 8444, 3550, 3458, 6772, 2021, 2130, 2065, 1045, 2347, 2102, 1996, 3532, 3772, 2200, 3532, 9179, 5977, 2004, 7629, 2004, 1996, 8235, 5188, 1998, 2035, 2105, 3265, 6676, 1996, 4364, 3294, 12391, 1998, 4942, 21515, 4232, 3015, 10155, 2023, 4440, 2063, 4510, 3422, 3085, 2619, 4197, 2041, 2129, 10140, 2008, 6097, 7068, 2100, 12731, 13687, 2378, 2240, 2001, 2065, 2017, 3191, 2008, 1998, 2245, 2008, 2001, 5760, 5021, 28850, 13718, 2009, 2763, 2001, 1996, 2087, 15734, 6057, 2112, 1997, 1996, 3185, 2672, 2017, 3363, 2066, 2023, 3185, 2021, 2065, 2115, 2063, 1037, 3854, 2638, 27920, 5470, 2030, 2025, 3294, 9577, 2123, 2102, 2156, 2009, 3531]\n"
     ]
    }
   ],
   "source": [
    "# Print the original sentence.\n",
    "print(' Original: ', sentences[0])\n",
    "\n",
    "# Print the sentence split into tokens.\n",
    "print('Tokenized: ', tokenizer.tokenize(sentences[0]))\n",
    "\n",
    "# Print the sentence mapped to token ids.\n",
    "print('Token IDs: ', tokenizer.convert_tokens_to_ids(tokenizer.tokenize(sentences[0])))"
   ]
  },
  {
   "cell_type": "markdown",
   "id": "2095d912",
   "metadata": {
    "id": "WeNIc4auFUdF",
    "papermill": {
     "duration": 0.042292,
     "end_time": "2022-06-28T20:40:44.114293",
     "exception": false,
     "start_time": "2022-06-28T20:40:44.072001",
     "status": "completed"
    },
    "tags": []
   },
   "source": [
    "When we actually convert all of our sentences, we'll use the `tokenize.encode` function to handle both steps, rather than calling `tokenize` and `convert_tokens_to_ids` separately. \n",
    "\n",
    "Before we can do that, though, we need to talk about some of BERT's formatting requirements."
   ]
  },
  {
   "cell_type": "markdown",
   "id": "fa5cc7be",
   "metadata": {
    "id": "viKGCCh8izww",
    "papermill": {
     "duration": 0.041616,
     "end_time": "2022-06-28T20:40:44.198709",
     "exception": false,
     "start_time": "2022-06-28T20:40:44.157093",
     "status": "completed"
    },
    "tags": []
   },
   "source": [
    "## 3.2. Required Formatting"
   ]
  },
  {
   "cell_type": "markdown",
   "id": "76d41bde",
   "metadata": {
    "id": "yDcqNlvVhL5W",
    "papermill": {
     "duration": 0.042373,
     "end_time": "2022-06-28T20:40:44.282844",
     "exception": false,
     "start_time": "2022-06-28T20:40:44.240471",
     "status": "completed"
    },
    "tags": []
   },
   "source": [
    "The above code left out a few required formatting steps that we'll look at here.\n",
    "\n",
    "*Side Note: The input format to BERT seems \"over-specified\" to me... We are required to give it a number of pieces of information which seem redundant, or like they could easily be inferred from the data without us explicity providing it. But it is what it is, and I suspect it will make more sense once I have a deeper understanding of the BERT internals.*\n",
    "\n",
    "We are required to:\n",
    "1. Add special tokens to the start and end of each sentence.\n",
    "2. Pad & truncate all sentences to a single constant length.\n",
    "3. Explicitly differentiate real tokens from padding tokens with the \"attention mask\".\n",
    "\n"
   ]
  },
  {
   "cell_type": "markdown",
   "id": "66a004f5",
   "metadata": {
    "id": "V6mceWWOjZnw",
    "papermill": {
     "duration": 0.044415,
     "end_time": "2022-06-28T20:40:44.369252",
     "exception": false,
     "start_time": "2022-06-28T20:40:44.324837",
     "status": "completed"
    },
    "tags": []
   },
   "source": [
    "### Special Tokens\n"
   ]
  },
  {
   "cell_type": "markdown",
   "id": "dddd7930",
   "metadata": {
    "id": "Ykk0P9JiKtVe",
    "papermill": {
     "duration": 0.042286,
     "end_time": "2022-06-28T20:40:44.452460",
     "exception": false,
     "start_time": "2022-06-28T20:40:44.410174",
     "status": "completed"
    },
    "tags": []
   },
   "source": [
    "\n",
    "**`[SEP]`**\n",
    "\n",
    "At the end of every sentence, we need to append the special `[SEP]` token. \n",
    "\n",
    "This token is an artifact of two-sentence tasks, where BERT is given two separate sentences and asked to determine something (e.g., can the answer to the question in sentence A be found in sentence B?). \n",
    "\n",
    "I am not certain yet why the token is still required when we have only single-sentence input, but it is!\n"
   ]
  },
  {
   "cell_type": "markdown",
   "id": "a0e2d7a0",
   "metadata": {
    "id": "86C9objaKu8f",
    "papermill": {
     "duration": 0.041844,
     "end_time": "2022-06-28T20:40:44.536159",
     "exception": false,
     "start_time": "2022-06-28T20:40:44.494315",
     "status": "completed"
    },
    "tags": []
   },
   "source": [
    "**`[CLS]`**\n",
    "\n",
    "For classification tasks, we must prepend the special `[CLS]` token to the beginning of every sentence.\n",
    "\n",
    "This token has special significance. BERT consists of 12 Transformer layers. Each transformer takes in a list of token embeddings, and produces the same number of embeddings on the output (but with the feature values changed, of course!).\n",
    "\n",
    "![Illustration of CLS token purpose](http://www.mccormickml.com/assets/BERT/CLS_token_500x606.png)\n",
    "\n",
    "On the output of the final (12th) transformer, *only the first embedding (corresponding to the [CLS] token) is used by the classifier*.\n",
    "\n",
    ">  \"The first token of every sequence is always a special classification token (`[CLS]`). The final hidden state\n",
    "corresponding to this token is used as the aggregate sequence representation for classification\n",
    "tasks.\" (from the [BERT paper](https://arxiv.org/pdf/1810.04805.pdf))\n",
    "\n",
    "\n"
   ]
  },
  {
   "cell_type": "markdown",
   "id": "5681a7b7",
   "metadata": {
    "id": "u51v0kFxeteu",
    "papermill": {
     "duration": 0.041067,
     "end_time": "2022-06-28T20:40:44.619357",
     "exception": false,
     "start_time": "2022-06-28T20:40:44.578290",
     "status": "completed"
    },
    "tags": []
   },
   "source": [
    "### Sentence Length & Attention Mask\n",
    "\n"
   ]
  },
  {
   "cell_type": "markdown",
   "id": "d40fadfa",
   "metadata": {
    "id": "qPNuwqZVK3T6",
    "papermill": {
     "duration": 0.042318,
     "end_time": "2022-06-28T20:40:44.703784",
     "exception": false,
     "start_time": "2022-06-28T20:40:44.661466",
     "status": "completed"
    },
    "tags": []
   },
   "source": [
    "The sentences in our dataset obviously have varying lengths, so how does BERT handle this?\n",
    "\n",
    "BERT has two constraints:\n",
    "1. All sentences must be padded or truncated to a single, fixed length.\n",
    "2. The maximum sentence length is 512 tokens.\n",
    "\n",
    "Padding is done with a special `[PAD]` token, which is at index 0 in the BERT vocabulary. The below illustration demonstrates padding out to a \"MAX_LEN\" of 8 tokens.\n",
    "\n",
    "<img src=\"http://www.mccormickml.com/assets/BERT/padding_and_mask.png\" width=\"600\">\n",
    "\n",
    "\n",
    "\n",
    "\n"
   ]
  },
  {
   "cell_type": "markdown",
   "id": "7879036e",
   "metadata": {
    "id": "l6w8elb-58GJ",
    "papermill": {
     "duration": 0.041217,
     "end_time": "2022-06-28T20:40:44.787553",
     "exception": false,
     "start_time": "2022-06-28T20:40:44.746336",
     "status": "completed"
    },
    "tags": []
   },
   "source": [
    "## 3.2. Sentences to IDs"
   ]
  },
  {
   "cell_type": "markdown",
   "id": "f849b810",
   "metadata": {
    "id": "1M296yz577fV",
    "papermill": {
     "duration": 0.041931,
     "end_time": "2022-06-28T20:40:44.872739",
     "exception": false,
     "start_time": "2022-06-28T20:40:44.830808",
     "status": "completed"
    },
    "tags": []
   },
   "source": [
    "The `tokenizer.encode` function combines multiple steps for us:\n",
    "1. Split the sentence into tokens.\n",
    "2. Add the special `[CLS]` and `[SEP]` tokens.\n",
    "3. Map the tokens to their IDs.\n",
    "\n",
    "Oddly, this function can perform truncating for us, but doesn't handle padding. "
   ]
  },
  {
   "cell_type": "code",
   "execution_count": 15,
   "id": "dae8d394",
   "metadata": {
    "execution": {
     "iopub.execute_input": "2022-06-28T20:40:44.958524Z",
     "iopub.status.busy": "2022-06-28T20:40:44.958179Z",
     "iopub.status.idle": "2022-06-28T20:46:24.503958Z",
     "shell.execute_reply": "2022-06-28T20:46:24.502939Z"
    },
    "id": "2bBdb3pt8LuQ",
    "outputId": "3e801684-e4f8-4e26-e0cd-a9024dabd969",
    "papermill": {
     "duration": 339.636426,
     "end_time": "2022-06-28T20:46:24.551155",
     "exception": false,
     "start_time": "2022-06-28T20:40:44.914729",
     "status": "completed"
    },
    "tags": []
   },
   "outputs": [
    {
     "name": "stderr",
     "output_type": "stream",
     "text": [
      "Token indices sequence length is longer than the specified maximum sequence length for this model (570 > 512). Running this sequence through the model will result in indexing errors\n"
     ]
    },
    {
     "name": "stdout",
     "output_type": "stream",
     "text": [
      "Original:  i dont know how this movie received so many positive reviews on this site im a big vonnegut fan and am very familiar with the story this showtime original film bastardized beyond belief but even if i wasnt the poor acting very poor casting sean astin as the brilliant athletic and all around individual harrison the guys completely generic and substandard writing rendered this tripe barely watchable someone pointed out how cute that maculay culkin line was if you read that and thought that was pure comic brilliance sadly it probably was the most intentionally funny part of the movie maybe youll like this movie but if youre a vonnegut fan or not completely insane dont see it please\n",
      "Token IDs: [101, 1045, 2123, 2102, 2113, 2129, 2023, 3185, 2363, 2061, 2116, 3893, 4391, 2006, 2023, 2609, 10047, 1037, 2502, 3854, 2638, 27920, 5470, 1998, 2572, 2200, 5220, 2007, 1996, 2466, 2023, 23811, 2434, 2143, 8444, 3550, 3458, 6772, 2021, 2130, 2065, 1045, 2347, 2102, 1996, 3532, 3772, 2200, 3532, 9179, 5977, 2004, 7629, 2004, 1996, 8235, 5188, 1998, 2035, 2105, 3265, 6676, 1996, 4364, 3294, 12391, 1998, 4942, 21515, 4232, 3015, 10155, 2023, 4440, 2063, 4510, 3422, 3085, 2619, 4197, 2041, 2129, 10140, 2008, 6097, 7068, 2100, 12731, 13687, 2378, 2240, 2001, 2065, 2017, 3191, 2008, 1998, 2245, 2008, 2001, 5760, 5021, 28850, 13718, 2009, 2763, 2001, 1996, 2087, 15734, 6057, 2112, 1997, 1996, 3185, 2672, 2017, 3363, 2066, 2023, 3185, 2021, 2065, 2115, 2063, 1037, 3854, 2638, 27920, 5470, 2030, 2025, 3294, 9577, 2123, 2102, 2156, 2009, 3531, 102]\n"
     ]
    }
   ],
   "source": [
    "# Tokenize all of the sentences and map the tokens to thier word IDs.\n",
    "input_ids = []\n",
    "\n",
    "# For every sentence...\n",
    "for sent in sentences:\n",
    "    # `encode` will:\n",
    "    #   (1) Tokenize the sentence.\n",
    "    #   (2) Prepend the `[CLS]` token to the start.\n",
    "    #   (3) Append the `[SEP]` token to the end.\n",
    "    #   (4) Map tokens to their IDs.\n",
    "    encoded_sent = tokenizer.encode(\n",
    "                        sent,                      # Sentence to encode.\n",
    "                        add_special_tokens = True, # Add '[CLS]' and '[SEP]'\n",
    "\n",
    "                        # This function also supports truncation and conversion\n",
    "                        # to pytorch tensors, but we need to do padding, so we\n",
    "                        # can't use these features :( .\n",
    "                        #max_length = 128,          # Truncate all sentences.\n",
    "                        #return_tensors = 'pt',     # Return pytorch tensors.\n",
    "                   )\n",
    "    \n",
    "    # Add the encoded sentence to the list.\n",
    "    input_ids.append(encoded_sent)\n",
    "\n",
    "# Print sentence 0, now as a list of IDs.\n",
    "print('Original: ', sentences[0])\n",
    "print('Token IDs:', input_ids[0])"
   ]
  },
  {
   "cell_type": "markdown",
   "id": "001946a6",
   "metadata": {
    "id": "WhwCKszh6ych",
    "papermill": {
     "duration": 0.041818,
     "end_time": "2022-06-28T20:46:24.634584",
     "exception": false,
     "start_time": "2022-06-28T20:46:24.592766",
     "status": "completed"
    },
    "tags": []
   },
   "source": [
    "## 3.3. Padding & Truncating"
   ]
  },
  {
   "cell_type": "markdown",
   "id": "58afe4c8",
   "metadata": {
    "id": "xytsw1oIfnX0",
    "papermill": {
     "duration": 0.042093,
     "end_time": "2022-06-28T20:46:24.718553",
     "exception": false,
     "start_time": "2022-06-28T20:46:24.676460",
     "status": "completed"
    },
    "tags": []
   },
   "source": [
    "Pad and truncate our sequences so that they all have the same length, `MAX_LEN`."
   ]
  },
  {
   "cell_type": "markdown",
   "id": "ce292624",
   "metadata": {
    "id": "zqiWTDrn_nGB",
    "papermill": {
     "duration": 0.041075,
     "end_time": "2022-06-28T20:46:24.801759",
     "exception": false,
     "start_time": "2022-06-28T20:46:24.760684",
     "status": "completed"
    },
    "tags": []
   },
   "source": [
    "First, what's the maximum sentence length in our dataset?"
   ]
  },
  {
   "cell_type": "code",
   "execution_count": 16,
   "id": "8c977077",
   "metadata": {
    "execution": {
     "iopub.execute_input": "2022-06-28T20:46:24.887552Z",
     "iopub.status.busy": "2022-06-28T20:46:24.886851Z",
     "iopub.status.idle": "2022-06-28T20:46:24.898879Z",
     "shell.execute_reply": "2022-06-28T20:46:24.897836Z"
    },
    "id": "JhUZO9vc_l6T",
    "outputId": "5cf10568-1550-4d27-a4db-abe59cca1992",
    "papermill": {
     "duration": 0.059034,
     "end_time": "2022-06-28T20:46:24.902326",
     "exception": false,
     "start_time": "2022-06-28T20:46:24.843292",
     "status": "completed"
    },
    "tags": []
   },
   "outputs": [
    {
     "name": "stdout",
     "output_type": "stream",
     "text": [
      "Max sentence length:  2433\n"
     ]
    }
   ],
   "source": [
    "print('Max sentence length: ', max([len(sen) for sen in input_ids]))"
   ]
  },
  {
   "cell_type": "markdown",
   "id": "5e86b8d1",
   "metadata": {
    "id": "hp-54FcQ_p3h",
    "papermill": {
     "duration": 0.04109,
     "end_time": "2022-06-28T20:46:24.986220",
     "exception": false,
     "start_time": "2022-06-28T20:46:24.945130",
     "status": "completed"
    },
    "tags": []
   },
   "source": [
    "Given that, let's choose MAX_LEN = 64 and apply the padding."
   ]
  },
  {
   "cell_type": "code",
   "execution_count": 17,
   "id": "265e132e",
   "metadata": {
    "execution": {
     "iopub.execute_input": "2022-06-28T20:46:25.071665Z",
     "iopub.status.busy": "2022-06-28T20:46:25.071306Z",
     "iopub.status.idle": "2022-06-28T20:46:26.049727Z",
     "shell.execute_reply": "2022-06-28T20:46:26.048605Z"
    },
    "id": "Cp9BPRd1tMIo",
    "outputId": "81e338e9-167a-46f5-9b93-c61dddcde17b",
    "papermill": {
     "duration": 1.023513,
     "end_time": "2022-06-28T20:46:26.052046",
     "exception": false,
     "start_time": "2022-06-28T20:46:25.028533",
     "status": "completed"
    },
    "tags": []
   },
   "outputs": [
    {
     "name": "stdout",
     "output_type": "stream",
     "text": [
      "\n",
      "Padding/truncating all sentences to 64 values...\n",
      "\n",
      "Padding token: \"[PAD]\", ID: 0\n",
      "\n",
      "Done.\n"
     ]
    }
   ],
   "source": [
    "# We'll borrow the `pad_sequences` utility function to do this.\n",
    "from keras.preprocessing.sequence import pad_sequences\n",
    "\n",
    "# Set the maximum sequence length.\n",
    "# I've chosen 64 somewhat arbitrarily. It's slightly larger than the\n",
    "# maximum training sentence length of 47...\n",
    "MAX_LEN = 64\n",
    "\n",
    "print('\\nPadding/truncating all sentences to %d values...' % MAX_LEN)\n",
    "\n",
    "print('\\nPadding token: \"{:}\", ID: {:}'.format(tokenizer.pad_token, tokenizer.pad_token_id))\n",
    "\n",
    "# Pad our input tokens with value 0.\n",
    "# \"post\" indicates that we want to pad and truncate at the end of the sequence,\n",
    "# as opposed to the beginning.\n",
    "input_ids = pad_sequences(input_ids, maxlen=MAX_LEN, dtype=\"long\", \n",
    "                          value=0, truncating=\"post\", padding=\"post\")\n",
    "\n",
    "print('\\nDone.')"
   ]
  },
  {
   "cell_type": "markdown",
   "id": "0c905a59",
   "metadata": {
    "id": "kDs-MYtYH8sL",
    "papermill": {
     "duration": 0.042344,
     "end_time": "2022-06-28T20:46:26.136839",
     "exception": false,
     "start_time": "2022-06-28T20:46:26.094495",
     "status": "completed"
    },
    "tags": []
   },
   "source": [
    "## 3.4. Attention Masks"
   ]
  },
  {
   "cell_type": "markdown",
   "id": "1c5208ff",
   "metadata": {
    "id": "KhGulL1pExCT",
    "papermill": {
     "duration": 0.041537,
     "end_time": "2022-06-28T20:46:26.220289",
     "exception": false,
     "start_time": "2022-06-28T20:46:26.178752",
     "status": "completed"
    },
    "tags": []
   },
   "source": [
    "The attention mask simply makes it explicit which tokens are actual words versus which are padding. \n",
    "\n",
    "The BERT vocabulary does not use the ID 0, so if a token ID is 0, then it's padding, and otherwise it's a real token."
   ]
  },
  {
   "cell_type": "code",
   "execution_count": 18,
   "id": "6e6712a5",
   "metadata": {
    "execution": {
     "iopub.execute_input": "2022-06-28T20:46:26.305962Z",
     "iopub.status.busy": "2022-06-28T20:46:26.304902Z",
     "iopub.status.idle": "2022-06-28T20:46:28.817590Z",
     "shell.execute_reply": "2022-06-28T20:46:28.816621Z"
    },
    "id": "cDoC24LeEv3N",
    "papermill": {
     "duration": 2.557811,
     "end_time": "2022-06-28T20:46:28.820240",
     "exception": false,
     "start_time": "2022-06-28T20:46:26.262429",
     "status": "completed"
    },
    "tags": []
   },
   "outputs": [],
   "source": [
    "# Create attention masks\n",
    "attention_masks = []\n",
    "\n",
    "# For each sentence...\n",
    "for sent in input_ids:\n",
    "    \n",
    "    # Create the attention mask.\n",
    "    #   - If a token ID is 0, then it's padding, set the mask to 0.\n",
    "    #   - If a token ID is > 0, then it's a real token, set the mask to 1.\n",
    "    att_mask = [int(token_id > 0) for token_id in sent]\n",
    "    \n",
    "    # Store the attention mask for this sentence.\n",
    "    attention_masks.append(att_mask)"
   ]
  },
  {
   "cell_type": "markdown",
   "id": "3054205a",
   "metadata": {
    "id": "aRp4O7D295d_",
    "papermill": {
     "duration": 0.042523,
     "end_time": "2022-06-28T20:46:28.905695",
     "exception": false,
     "start_time": "2022-06-28T20:46:28.863172",
     "status": "completed"
    },
    "tags": []
   },
   "source": [
    "## 3.5. Training & Validation Split\n"
   ]
  },
  {
   "cell_type": "markdown",
   "id": "bda5c0ce",
   "metadata": {
    "id": "qu0ao7p8rb06",
    "papermill": {
     "duration": 0.04236,
     "end_time": "2022-06-28T20:46:28.989879",
     "exception": false,
     "start_time": "2022-06-28T20:46:28.947519",
     "status": "completed"
    },
    "tags": []
   },
   "source": [
    "Divide up our training set to use 90% for training and 10% for validation."
   ]
  },
  {
   "cell_type": "code",
   "execution_count": 19,
   "id": "1188a1dd",
   "metadata": {
    "execution": {
     "iopub.execute_input": "2022-06-28T20:46:29.075372Z",
     "iopub.status.busy": "2022-06-28T20:46:29.075026Z",
     "iopub.status.idle": "2022-06-28T20:46:29.106722Z",
     "shell.execute_reply": "2022-06-28T20:46:29.105555Z"
    },
    "id": "aFbE-UHvsb7-",
    "papermill": {
     "duration": 0.077475,
     "end_time": "2022-06-28T20:46:29.109289",
     "exception": false,
     "start_time": "2022-06-28T20:46:29.031814",
     "status": "completed"
    },
    "tags": []
   },
   "outputs": [],
   "source": [
    "# Use train_test_split to split our data into train and validation sets for\n",
    "# training\n",
    "from sklearn.model_selection import train_test_split\n",
    "\n",
    "# Use 90% for training and 10% for validation.\n",
    "train_inputs, validation_inputs, train_labels, validation_labels = train_test_split(input_ids, labels, \n",
    "                                                            random_state=20, test_size=0.1)\n",
    "# Do the same for the masks.\n",
    "train_masks, validation_masks, _, _ = train_test_split(attention_masks, labels,\n",
    "                                             random_state=20, test_size=0.1)"
   ]
  },
  {
   "cell_type": "markdown",
   "id": "f9521e2a",
   "metadata": {
    "id": "7LzSbTqW9_BR",
    "papermill": {
     "duration": 0.041554,
     "end_time": "2022-06-28T20:46:29.193081",
     "exception": false,
     "start_time": "2022-06-28T20:46:29.151527",
     "status": "completed"
    },
    "tags": []
   },
   "source": [
    "## 3.6. Converting to PyTorch Data Types"
   ]
  },
  {
   "cell_type": "markdown",
   "id": "76d806f6",
   "metadata": {
    "id": "6p1uXczp-Je4",
    "papermill": {
     "duration": 0.041919,
     "end_time": "2022-06-28T20:46:29.276906",
     "exception": false,
     "start_time": "2022-06-28T20:46:29.234987",
     "status": "completed"
    },
    "tags": []
   },
   "source": [
    "Our model expects PyTorch tensors rather than numpy.ndarrays, so convert all of our dataset variables."
   ]
  },
  {
   "cell_type": "code",
   "execution_count": 20,
   "id": "67b9a818",
   "metadata": {
    "execution": {
     "iopub.execute_input": "2022-06-28T20:46:29.363487Z",
     "iopub.status.busy": "2022-06-28T20:46:29.362465Z",
     "iopub.status.idle": "2022-06-28T20:46:29.766369Z",
     "shell.execute_reply": "2022-06-28T20:46:29.765407Z"
    },
    "id": "jw5K2A5Ko1RF",
    "papermill": {
     "duration": 0.449933,
     "end_time": "2022-06-28T20:46:29.768706",
     "exception": false,
     "start_time": "2022-06-28T20:46:29.318773",
     "status": "completed"
    },
    "tags": []
   },
   "outputs": [],
   "source": [
    "# Convert all inputs and labels into torch tensors, the required datatype \n",
    "# for our model.\n",
    "train_inputs = torch.tensor(train_inputs)\n",
    "validation_inputs = torch.tensor(validation_inputs)\n",
    "\n",
    "train_labels = torch.tensor(train_labels)\n",
    "validation_labels = torch.tensor(validation_labels)\n",
    "\n",
    "train_masks = torch.tensor(train_masks)\n",
    "validation_masks = torch.tensor(validation_masks)"
   ]
  },
  {
   "cell_type": "markdown",
   "id": "139b8cf4",
   "metadata": {
    "id": "dD9i6Z2pG-sN",
    "papermill": {
     "duration": 0.044362,
     "end_time": "2022-06-28T20:46:29.857220",
     "exception": false,
     "start_time": "2022-06-28T20:46:29.812858",
     "status": "completed"
    },
    "tags": []
   },
   "source": [
    "We'll also create an iterator for our dataset using the torch DataLoader class. This helps save on memory during training because, unlike a for loop, with an iterator the entire dataset does not need to be loaded into memory."
   ]
  },
  {
   "cell_type": "code",
   "execution_count": 21,
   "id": "5be5d055",
   "metadata": {
    "execution": {
     "iopub.execute_input": "2022-06-28T20:46:29.942985Z",
     "iopub.status.busy": "2022-06-28T20:46:29.942630Z",
     "iopub.status.idle": "2022-06-28T20:46:29.950634Z",
     "shell.execute_reply": "2022-06-28T20:46:29.949557Z"
    },
    "id": "GEgLpFVlo1Z-",
    "papermill": {
     "duration": 0.052822,
     "end_time": "2022-06-28T20:46:29.952664",
     "exception": false,
     "start_time": "2022-06-28T20:46:29.899842",
     "status": "completed"
    },
    "tags": []
   },
   "outputs": [],
   "source": [
    "from torch.utils.data import TensorDataset, DataLoader, RandomSampler, SequentialSampler\n",
    "\n",
    "# The DataLoader needs to know our batch size for training, so we specify it \n",
    "# here.\n",
    "# For fine-tuning BERT on a specific task, the authors recommend a batch size of\n",
    "# 16 or 32.\n",
    "\n",
    "batch_size = 32\n",
    "\n",
    "# Create the DataLoader for our training set.\n",
    "train_data = TensorDataset(train_inputs, train_masks, train_labels)\n",
    "train_sampler = RandomSampler(train_data)\n",
    "train_dataloader = DataLoader(train_data, sampler=train_sampler, batch_size=batch_size)\n",
    "\n",
    "# Create the DataLoader for our validation set.\n",
    "validation_data = TensorDataset(validation_inputs, validation_masks, validation_labels)\n",
    "validation_sampler = SequentialSampler(validation_data)\n",
    "validation_dataloader = DataLoader(validation_data, sampler=validation_sampler, batch_size=batch_size)\n"
   ]
  },
  {
   "cell_type": "markdown",
   "id": "331836d9",
   "metadata": {
    "id": "8bwa6Rts-02-",
    "papermill": {
     "duration": 0.041642,
     "end_time": "2022-06-28T20:46:30.036361",
     "exception": false,
     "start_time": "2022-06-28T20:46:29.994719",
     "status": "completed"
    },
    "tags": []
   },
   "source": [
    "# 4. Train Our Classification Model"
   ]
  },
  {
   "cell_type": "markdown",
   "id": "2ea848d5",
   "metadata": {
    "id": "3xYQ3iLO08SX",
    "papermill": {
     "duration": 0.042251,
     "end_time": "2022-06-28T20:46:30.120692",
     "exception": false,
     "start_time": "2022-06-28T20:46:30.078441",
     "status": "completed"
    },
    "tags": []
   },
   "source": [
    "Now that our input data is properly formatted, it's time to fine tune the BERT model. "
   ]
  },
  {
   "cell_type": "markdown",
   "id": "dae2adac",
   "metadata": {
    "id": "D6TKgyUzPIQc",
    "papermill": {
     "duration": 0.041812,
     "end_time": "2022-06-28T20:46:30.204338",
     "exception": false,
     "start_time": "2022-06-28T20:46:30.162526",
     "status": "completed"
    },
    "tags": []
   },
   "source": [
    "## 4.1. BertForSequenceClassification"
   ]
  },
  {
   "cell_type": "markdown",
   "id": "d6f0f16a",
   "metadata": {
    "id": "1sjzRT1V0zwm",
    "papermill": {
     "duration": 0.042391,
     "end_time": "2022-06-28T20:46:30.288512",
     "exception": false,
     "start_time": "2022-06-28T20:46:30.246121",
     "status": "completed"
    },
    "tags": []
   },
   "source": [
    "For this task, we first want to modify the pre-trained BERT model to give outputs for classification, and then we want to continue training the model on our dataset until that the entire model, end-to-end, is well-suited for our task. \n",
    "\n",
    "Thankfully, the huggingface pytorch implementation includes a set of interfaces designed for a variety of NLP tasks. Though these interfaces are all built on top of a trained BERT model, each has different top layers and output types designed to accomodate their specific NLP task.  \n",
    "\n",
    "Here is the current list of classes provided for fine-tuning:\n",
    "* BertModel\n",
    "* BertForPreTraining\n",
    "* BertForMaskedLM\n",
    "* BertForNextSentencePrediction\n",
    "* **BertForSequenceClassification** - The one we'll use.\n",
    "* BertForTokenClassification\n",
    "* BertForQuestionAnswering\n",
    "\n",
    "The documentation for these can be found under [here](https://huggingface.co/transformers/v2.2.0/model_doc/bert.html)."
   ]
  },
  {
   "cell_type": "code",
   "execution_count": 22,
   "id": "b246e01d",
   "metadata": {
    "execution": {
     "iopub.execute_input": "2022-06-28T20:46:30.373181Z",
     "iopub.status.busy": "2022-06-28T20:46:30.372833Z",
     "iopub.status.idle": "2022-06-28T20:46:42.903455Z",
     "shell.execute_reply": "2022-06-28T20:46:42.902524Z"
    },
    "id": "gFsCTp_mporB",
    "outputId": "02fb6128-30ac-47e9-90d3-cb15b95c3f31",
    "papermill": {
     "duration": 12.575873,
     "end_time": "2022-06-28T20:46:42.905816",
     "exception": false,
     "start_time": "2022-06-28T20:46:30.329943",
     "status": "completed"
    },
    "tags": []
   },
   "outputs": [
    {
     "data": {
      "application/vnd.jupyter.widget-view+json": {
       "model_id": "bbb1b960ffe64b47830f5ded5a54c650",
       "version_major": 2,
       "version_minor": 0
      },
      "text/plain": [
       "Downloading:   0%|          | 0.00/420M [00:00<?, ?B/s]"
      ]
     },
     "metadata": {},
     "output_type": "display_data"
    },
    {
     "name": "stderr",
     "output_type": "stream",
     "text": [
      "Some weights of the model checkpoint at bert-base-uncased were not used when initializing BertForSequenceClassification: ['cls.predictions.decoder.weight', 'cls.predictions.bias', 'cls.seq_relationship.weight', 'cls.predictions.transform.dense.bias', 'cls.predictions.transform.LayerNorm.weight', 'cls.seq_relationship.bias', 'cls.predictions.transform.LayerNorm.bias', 'cls.predictions.transform.dense.weight']\n",
      "- This IS expected if you are initializing BertForSequenceClassification from the checkpoint of a model trained on another task or with another architecture (e.g. initializing a BertForSequenceClassification model from a BertForPreTraining model).\n",
      "- This IS NOT expected if you are initializing BertForSequenceClassification from the checkpoint of a model that you expect to be exactly identical (initializing a BertForSequenceClassification model from a BertForSequenceClassification model).\n",
      "Some weights of BertForSequenceClassification were not initialized from the model checkpoint at bert-base-uncased and are newly initialized: ['classifier.weight', 'classifier.bias']\n",
      "You should probably TRAIN this model on a down-stream task to be able to use it for predictions and inference.\n"
     ]
    },
    {
     "data": {
      "text/plain": [
       "BertForSequenceClassification(\n",
       "  (bert): BertModel(\n",
       "    (embeddings): BertEmbeddings(\n",
       "      (word_embeddings): Embedding(30522, 768, padding_idx=0)\n",
       "      (position_embeddings): Embedding(512, 768)\n",
       "      (token_type_embeddings): Embedding(2, 768)\n",
       "      (LayerNorm): LayerNorm((768,), eps=1e-12, elementwise_affine=True)\n",
       "      (dropout): Dropout(p=0.1, inplace=False)\n",
       "    )\n",
       "    (encoder): BertEncoder(\n",
       "      (layer): ModuleList(\n",
       "        (0): BertLayer(\n",
       "          (attention): BertAttention(\n",
       "            (self): BertSelfAttention(\n",
       "              (query): Linear(in_features=768, out_features=768, bias=True)\n",
       "              (key): Linear(in_features=768, out_features=768, bias=True)\n",
       "              (value): Linear(in_features=768, out_features=768, bias=True)\n",
       "              (dropout): Dropout(p=0.1, inplace=False)\n",
       "            )\n",
       "            (output): BertSelfOutput(\n",
       "              (dense): Linear(in_features=768, out_features=768, bias=True)\n",
       "              (LayerNorm): LayerNorm((768,), eps=1e-12, elementwise_affine=True)\n",
       "              (dropout): Dropout(p=0.1, inplace=False)\n",
       "            )\n",
       "          )\n",
       "          (intermediate): BertIntermediate(\n",
       "            (dense): Linear(in_features=768, out_features=3072, bias=True)\n",
       "            (intermediate_act_fn): GELUActivation()\n",
       "          )\n",
       "          (output): BertOutput(\n",
       "            (dense): Linear(in_features=3072, out_features=768, bias=True)\n",
       "            (LayerNorm): LayerNorm((768,), eps=1e-12, elementwise_affine=True)\n",
       "            (dropout): Dropout(p=0.1, inplace=False)\n",
       "          )\n",
       "        )\n",
       "        (1): BertLayer(\n",
       "          (attention): BertAttention(\n",
       "            (self): BertSelfAttention(\n",
       "              (query): Linear(in_features=768, out_features=768, bias=True)\n",
       "              (key): Linear(in_features=768, out_features=768, bias=True)\n",
       "              (value): Linear(in_features=768, out_features=768, bias=True)\n",
       "              (dropout): Dropout(p=0.1, inplace=False)\n",
       "            )\n",
       "            (output): BertSelfOutput(\n",
       "              (dense): Linear(in_features=768, out_features=768, bias=True)\n",
       "              (LayerNorm): LayerNorm((768,), eps=1e-12, elementwise_affine=True)\n",
       "              (dropout): Dropout(p=0.1, inplace=False)\n",
       "            )\n",
       "          )\n",
       "          (intermediate): BertIntermediate(\n",
       "            (dense): Linear(in_features=768, out_features=3072, bias=True)\n",
       "            (intermediate_act_fn): GELUActivation()\n",
       "          )\n",
       "          (output): BertOutput(\n",
       "            (dense): Linear(in_features=3072, out_features=768, bias=True)\n",
       "            (LayerNorm): LayerNorm((768,), eps=1e-12, elementwise_affine=True)\n",
       "            (dropout): Dropout(p=0.1, inplace=False)\n",
       "          )\n",
       "        )\n",
       "        (2): BertLayer(\n",
       "          (attention): BertAttention(\n",
       "            (self): BertSelfAttention(\n",
       "              (query): Linear(in_features=768, out_features=768, bias=True)\n",
       "              (key): Linear(in_features=768, out_features=768, bias=True)\n",
       "              (value): Linear(in_features=768, out_features=768, bias=True)\n",
       "              (dropout): Dropout(p=0.1, inplace=False)\n",
       "            )\n",
       "            (output): BertSelfOutput(\n",
       "              (dense): Linear(in_features=768, out_features=768, bias=True)\n",
       "              (LayerNorm): LayerNorm((768,), eps=1e-12, elementwise_affine=True)\n",
       "              (dropout): Dropout(p=0.1, inplace=False)\n",
       "            )\n",
       "          )\n",
       "          (intermediate): BertIntermediate(\n",
       "            (dense): Linear(in_features=768, out_features=3072, bias=True)\n",
       "            (intermediate_act_fn): GELUActivation()\n",
       "          )\n",
       "          (output): BertOutput(\n",
       "            (dense): Linear(in_features=3072, out_features=768, bias=True)\n",
       "            (LayerNorm): LayerNorm((768,), eps=1e-12, elementwise_affine=True)\n",
       "            (dropout): Dropout(p=0.1, inplace=False)\n",
       "          )\n",
       "        )\n",
       "        (3): BertLayer(\n",
       "          (attention): BertAttention(\n",
       "            (self): BertSelfAttention(\n",
       "              (query): Linear(in_features=768, out_features=768, bias=True)\n",
       "              (key): Linear(in_features=768, out_features=768, bias=True)\n",
       "              (value): Linear(in_features=768, out_features=768, bias=True)\n",
       "              (dropout): Dropout(p=0.1, inplace=False)\n",
       "            )\n",
       "            (output): BertSelfOutput(\n",
       "              (dense): Linear(in_features=768, out_features=768, bias=True)\n",
       "              (LayerNorm): LayerNorm((768,), eps=1e-12, elementwise_affine=True)\n",
       "              (dropout): Dropout(p=0.1, inplace=False)\n",
       "            )\n",
       "          )\n",
       "          (intermediate): BertIntermediate(\n",
       "            (dense): Linear(in_features=768, out_features=3072, bias=True)\n",
       "            (intermediate_act_fn): GELUActivation()\n",
       "          )\n",
       "          (output): BertOutput(\n",
       "            (dense): Linear(in_features=3072, out_features=768, bias=True)\n",
       "            (LayerNorm): LayerNorm((768,), eps=1e-12, elementwise_affine=True)\n",
       "            (dropout): Dropout(p=0.1, inplace=False)\n",
       "          )\n",
       "        )\n",
       "        (4): BertLayer(\n",
       "          (attention): BertAttention(\n",
       "            (self): BertSelfAttention(\n",
       "              (query): Linear(in_features=768, out_features=768, bias=True)\n",
       "              (key): Linear(in_features=768, out_features=768, bias=True)\n",
       "              (value): Linear(in_features=768, out_features=768, bias=True)\n",
       "              (dropout): Dropout(p=0.1, inplace=False)\n",
       "            )\n",
       "            (output): BertSelfOutput(\n",
       "              (dense): Linear(in_features=768, out_features=768, bias=True)\n",
       "              (LayerNorm): LayerNorm((768,), eps=1e-12, elementwise_affine=True)\n",
       "              (dropout): Dropout(p=0.1, inplace=False)\n",
       "            )\n",
       "          )\n",
       "          (intermediate): BertIntermediate(\n",
       "            (dense): Linear(in_features=768, out_features=3072, bias=True)\n",
       "            (intermediate_act_fn): GELUActivation()\n",
       "          )\n",
       "          (output): BertOutput(\n",
       "            (dense): Linear(in_features=3072, out_features=768, bias=True)\n",
       "            (LayerNorm): LayerNorm((768,), eps=1e-12, elementwise_affine=True)\n",
       "            (dropout): Dropout(p=0.1, inplace=False)\n",
       "          )\n",
       "        )\n",
       "        (5): BertLayer(\n",
       "          (attention): BertAttention(\n",
       "            (self): BertSelfAttention(\n",
       "              (query): Linear(in_features=768, out_features=768, bias=True)\n",
       "              (key): Linear(in_features=768, out_features=768, bias=True)\n",
       "              (value): Linear(in_features=768, out_features=768, bias=True)\n",
       "              (dropout): Dropout(p=0.1, inplace=False)\n",
       "            )\n",
       "            (output): BertSelfOutput(\n",
       "              (dense): Linear(in_features=768, out_features=768, bias=True)\n",
       "              (LayerNorm): LayerNorm((768,), eps=1e-12, elementwise_affine=True)\n",
       "              (dropout): Dropout(p=0.1, inplace=False)\n",
       "            )\n",
       "          )\n",
       "          (intermediate): BertIntermediate(\n",
       "            (dense): Linear(in_features=768, out_features=3072, bias=True)\n",
       "            (intermediate_act_fn): GELUActivation()\n",
       "          )\n",
       "          (output): BertOutput(\n",
       "            (dense): Linear(in_features=3072, out_features=768, bias=True)\n",
       "            (LayerNorm): LayerNorm((768,), eps=1e-12, elementwise_affine=True)\n",
       "            (dropout): Dropout(p=0.1, inplace=False)\n",
       "          )\n",
       "        )\n",
       "        (6): BertLayer(\n",
       "          (attention): BertAttention(\n",
       "            (self): BertSelfAttention(\n",
       "              (query): Linear(in_features=768, out_features=768, bias=True)\n",
       "              (key): Linear(in_features=768, out_features=768, bias=True)\n",
       "              (value): Linear(in_features=768, out_features=768, bias=True)\n",
       "              (dropout): Dropout(p=0.1, inplace=False)\n",
       "            )\n",
       "            (output): BertSelfOutput(\n",
       "              (dense): Linear(in_features=768, out_features=768, bias=True)\n",
       "              (LayerNorm): LayerNorm((768,), eps=1e-12, elementwise_affine=True)\n",
       "              (dropout): Dropout(p=0.1, inplace=False)\n",
       "            )\n",
       "          )\n",
       "          (intermediate): BertIntermediate(\n",
       "            (dense): Linear(in_features=768, out_features=3072, bias=True)\n",
       "            (intermediate_act_fn): GELUActivation()\n",
       "          )\n",
       "          (output): BertOutput(\n",
       "            (dense): Linear(in_features=3072, out_features=768, bias=True)\n",
       "            (LayerNorm): LayerNorm((768,), eps=1e-12, elementwise_affine=True)\n",
       "            (dropout): Dropout(p=0.1, inplace=False)\n",
       "          )\n",
       "        )\n",
       "        (7): BertLayer(\n",
       "          (attention): BertAttention(\n",
       "            (self): BertSelfAttention(\n",
       "              (query): Linear(in_features=768, out_features=768, bias=True)\n",
       "              (key): Linear(in_features=768, out_features=768, bias=True)\n",
       "              (value): Linear(in_features=768, out_features=768, bias=True)\n",
       "              (dropout): Dropout(p=0.1, inplace=False)\n",
       "            )\n",
       "            (output): BertSelfOutput(\n",
       "              (dense): Linear(in_features=768, out_features=768, bias=True)\n",
       "              (LayerNorm): LayerNorm((768,), eps=1e-12, elementwise_affine=True)\n",
       "              (dropout): Dropout(p=0.1, inplace=False)\n",
       "            )\n",
       "          )\n",
       "          (intermediate): BertIntermediate(\n",
       "            (dense): Linear(in_features=768, out_features=3072, bias=True)\n",
       "            (intermediate_act_fn): GELUActivation()\n",
       "          )\n",
       "          (output): BertOutput(\n",
       "            (dense): Linear(in_features=3072, out_features=768, bias=True)\n",
       "            (LayerNorm): LayerNorm((768,), eps=1e-12, elementwise_affine=True)\n",
       "            (dropout): Dropout(p=0.1, inplace=False)\n",
       "          )\n",
       "        )\n",
       "        (8): BertLayer(\n",
       "          (attention): BertAttention(\n",
       "            (self): BertSelfAttention(\n",
       "              (query): Linear(in_features=768, out_features=768, bias=True)\n",
       "              (key): Linear(in_features=768, out_features=768, bias=True)\n",
       "              (value): Linear(in_features=768, out_features=768, bias=True)\n",
       "              (dropout): Dropout(p=0.1, inplace=False)\n",
       "            )\n",
       "            (output): BertSelfOutput(\n",
       "              (dense): Linear(in_features=768, out_features=768, bias=True)\n",
       "              (LayerNorm): LayerNorm((768,), eps=1e-12, elementwise_affine=True)\n",
       "              (dropout): Dropout(p=0.1, inplace=False)\n",
       "            )\n",
       "          )\n",
       "          (intermediate): BertIntermediate(\n",
       "            (dense): Linear(in_features=768, out_features=3072, bias=True)\n",
       "            (intermediate_act_fn): GELUActivation()\n",
       "          )\n",
       "          (output): BertOutput(\n",
       "            (dense): Linear(in_features=3072, out_features=768, bias=True)\n",
       "            (LayerNorm): LayerNorm((768,), eps=1e-12, elementwise_affine=True)\n",
       "            (dropout): Dropout(p=0.1, inplace=False)\n",
       "          )\n",
       "        )\n",
       "        (9): BertLayer(\n",
       "          (attention): BertAttention(\n",
       "            (self): BertSelfAttention(\n",
       "              (query): Linear(in_features=768, out_features=768, bias=True)\n",
       "              (key): Linear(in_features=768, out_features=768, bias=True)\n",
       "              (value): Linear(in_features=768, out_features=768, bias=True)\n",
       "              (dropout): Dropout(p=0.1, inplace=False)\n",
       "            )\n",
       "            (output): BertSelfOutput(\n",
       "              (dense): Linear(in_features=768, out_features=768, bias=True)\n",
       "              (LayerNorm): LayerNorm((768,), eps=1e-12, elementwise_affine=True)\n",
       "              (dropout): Dropout(p=0.1, inplace=False)\n",
       "            )\n",
       "          )\n",
       "          (intermediate): BertIntermediate(\n",
       "            (dense): Linear(in_features=768, out_features=3072, bias=True)\n",
       "            (intermediate_act_fn): GELUActivation()\n",
       "          )\n",
       "          (output): BertOutput(\n",
       "            (dense): Linear(in_features=3072, out_features=768, bias=True)\n",
       "            (LayerNorm): LayerNorm((768,), eps=1e-12, elementwise_affine=True)\n",
       "            (dropout): Dropout(p=0.1, inplace=False)\n",
       "          )\n",
       "        )\n",
       "        (10): BertLayer(\n",
       "          (attention): BertAttention(\n",
       "            (self): BertSelfAttention(\n",
       "              (query): Linear(in_features=768, out_features=768, bias=True)\n",
       "              (key): Linear(in_features=768, out_features=768, bias=True)\n",
       "              (value): Linear(in_features=768, out_features=768, bias=True)\n",
       "              (dropout): Dropout(p=0.1, inplace=False)\n",
       "            )\n",
       "            (output): BertSelfOutput(\n",
       "              (dense): Linear(in_features=768, out_features=768, bias=True)\n",
       "              (LayerNorm): LayerNorm((768,), eps=1e-12, elementwise_affine=True)\n",
       "              (dropout): Dropout(p=0.1, inplace=False)\n",
       "            )\n",
       "          )\n",
       "          (intermediate): BertIntermediate(\n",
       "            (dense): Linear(in_features=768, out_features=3072, bias=True)\n",
       "            (intermediate_act_fn): GELUActivation()\n",
       "          )\n",
       "          (output): BertOutput(\n",
       "            (dense): Linear(in_features=3072, out_features=768, bias=True)\n",
       "            (LayerNorm): LayerNorm((768,), eps=1e-12, elementwise_affine=True)\n",
       "            (dropout): Dropout(p=0.1, inplace=False)\n",
       "          )\n",
       "        )\n",
       "        (11): BertLayer(\n",
       "          (attention): BertAttention(\n",
       "            (self): BertSelfAttention(\n",
       "              (query): Linear(in_features=768, out_features=768, bias=True)\n",
       "              (key): Linear(in_features=768, out_features=768, bias=True)\n",
       "              (value): Linear(in_features=768, out_features=768, bias=True)\n",
       "              (dropout): Dropout(p=0.1, inplace=False)\n",
       "            )\n",
       "            (output): BertSelfOutput(\n",
       "              (dense): Linear(in_features=768, out_features=768, bias=True)\n",
       "              (LayerNorm): LayerNorm((768,), eps=1e-12, elementwise_affine=True)\n",
       "              (dropout): Dropout(p=0.1, inplace=False)\n",
       "            )\n",
       "          )\n",
       "          (intermediate): BertIntermediate(\n",
       "            (dense): Linear(in_features=768, out_features=3072, bias=True)\n",
       "            (intermediate_act_fn): GELUActivation()\n",
       "          )\n",
       "          (output): BertOutput(\n",
       "            (dense): Linear(in_features=3072, out_features=768, bias=True)\n",
       "            (LayerNorm): LayerNorm((768,), eps=1e-12, elementwise_affine=True)\n",
       "            (dropout): Dropout(p=0.1, inplace=False)\n",
       "          )\n",
       "        )\n",
       "      )\n",
       "    )\n",
       "    (pooler): BertPooler(\n",
       "      (dense): Linear(in_features=768, out_features=768, bias=True)\n",
       "      (activation): Tanh()\n",
       "    )\n",
       "  )\n",
       "  (dropout): Dropout(p=0.1, inplace=False)\n",
       "  (classifier): Linear(in_features=768, out_features=2, bias=True)\n",
       ")"
      ]
     },
     "execution_count": 22,
     "metadata": {},
     "output_type": "execute_result"
    }
   ],
   "source": [
    "from transformers import BertForSequenceClassification, AdamW, BertConfig\n",
    "\n",
    "# Load BertForSequenceClassification, the pretrained BERT model with a single \n",
    "# linear classification layer on top. \n",
    "model = BertForSequenceClassification.from_pretrained(\n",
    "    \"bert-base-uncased\", # Use the 12-layer BERT model, with an uncased vocab.\n",
    "    num_labels = 2, # The number of output labels--2 for binary classification.\n",
    "    output_attentions = False, # Whether the model returns attentions weights.\n",
    "    output_hidden_states = False, # Whether the model returns all hidden-states.\n",
    ")\n",
    "\n",
    "# Tell pytorch to run this model on the GPU.\n",
    "model.cuda()"
   ]
  },
  {
   "cell_type": "markdown",
   "id": "58c4dc79",
   "metadata": {
    "id": "e0Jv6c7-HHDW",
    "papermill": {
     "duration": 0.043174,
     "end_time": "2022-06-28T20:46:42.992350",
     "exception": false,
     "start_time": "2022-06-28T20:46:42.949176",
     "status": "completed"
    },
    "tags": []
   },
   "source": [
    "Just for curiosity's sake, we can browse all of the model's parameters by name here.\n",
    "\n",
    "In the below cell, I've printed out the names and dimensions of the weights for:\n",
    "\n",
    "1. The embedding layer.\n",
    "2. The first of the twelve transformers.\n",
    "3. The output layer.\n",
    "\n",
    "\n"
   ]
  },
  {
   "cell_type": "code",
   "execution_count": 23,
   "id": "ddc57727",
   "metadata": {
    "execution": {
     "iopub.execute_input": "2022-06-28T20:46:43.080791Z",
     "iopub.status.busy": "2022-06-28T20:46:43.079716Z",
     "iopub.status.idle": "2022-06-28T20:46:43.090493Z",
     "shell.execute_reply": "2022-06-28T20:46:43.089117Z"
    },
    "id": "8PIiVlDYCtSq",
    "outputId": "142adf6b-cf57-4059-8b41-4a2de17aa844",
    "papermill": {
     "duration": 0.058088,
     "end_time": "2022-06-28T20:46:43.093282",
     "exception": false,
     "start_time": "2022-06-28T20:46:43.035194",
     "status": "completed"
    },
    "tags": []
   },
   "outputs": [
    {
     "name": "stdout",
     "output_type": "stream",
     "text": [
      "The BERT model has 201 different named parameters.\n",
      "\n",
      "==== Embedding Layer ====\n",
      "\n",
      "bert.embeddings.word_embeddings.weight                  (30522, 768)\n",
      "bert.embeddings.position_embeddings.weight                (512, 768)\n",
      "bert.embeddings.token_type_embeddings.weight                (2, 768)\n",
      "bert.embeddings.LayerNorm.weight                              (768,)\n",
      "bert.embeddings.LayerNorm.bias                                (768,)\n",
      "\n",
      "==== First Transformer ====\n",
      "\n",
      "bert.encoder.layer.0.attention.self.query.weight          (768, 768)\n",
      "bert.encoder.layer.0.attention.self.query.bias                (768,)\n",
      "bert.encoder.layer.0.attention.self.key.weight            (768, 768)\n",
      "bert.encoder.layer.0.attention.self.key.bias                  (768,)\n",
      "bert.encoder.layer.0.attention.self.value.weight          (768, 768)\n",
      "bert.encoder.layer.0.attention.self.value.bias                (768,)\n",
      "bert.encoder.layer.0.attention.output.dense.weight        (768, 768)\n",
      "bert.encoder.layer.0.attention.output.dense.bias              (768,)\n",
      "bert.encoder.layer.0.attention.output.LayerNorm.weight        (768,)\n",
      "bert.encoder.layer.0.attention.output.LayerNorm.bias          (768,)\n",
      "bert.encoder.layer.0.intermediate.dense.weight           (3072, 768)\n",
      "bert.encoder.layer.0.intermediate.dense.bias                 (3072,)\n",
      "bert.encoder.layer.0.output.dense.weight                 (768, 3072)\n",
      "bert.encoder.layer.0.output.dense.bias                        (768,)\n",
      "bert.encoder.layer.0.output.LayerNorm.weight                  (768,)\n",
      "bert.encoder.layer.0.output.LayerNorm.bias                    (768,)\n",
      "\n",
      "==== Output Layer ====\n",
      "\n",
      "bert.pooler.dense.weight                                  (768, 768)\n",
      "bert.pooler.dense.bias                                        (768,)\n",
      "classifier.weight                                           (2, 768)\n",
      "classifier.bias                                                 (2,)\n"
     ]
    }
   ],
   "source": [
    "# Get all of the model's parameters as a list of tuples.\n",
    "params = list(model.named_parameters())\n",
    "\n",
    "print('The BERT model has {:} different named parameters.\\n'.format(len(params)))\n",
    "\n",
    "print('==== Embedding Layer ====\\n')\n",
    "\n",
    "for p in params[0:5]:\n",
    "    print(\"{:<55} {:>12}\".format(p[0], str(tuple(p[1].size()))))\n",
    "\n",
    "print('\\n==== First Transformer ====\\n')\n",
    "\n",
    "for p in params[5:21]:\n",
    "    print(\"{:<55} {:>12}\".format(p[0], str(tuple(p[1].size()))))\n",
    "\n",
    "print('\\n==== Output Layer ====\\n')\n",
    "\n",
    "for p in params[-4:]:\n",
    "    print(\"{:<55} {:>12}\".format(p[0], str(tuple(p[1].size()))))"
   ]
  },
  {
   "cell_type": "markdown",
   "id": "d7500b69",
   "metadata": {
    "id": "qRWT-D4U_Pvx",
    "papermill": {
     "duration": 0.042458,
     "end_time": "2022-06-28T20:46:43.180049",
     "exception": false,
     "start_time": "2022-06-28T20:46:43.137591",
     "status": "completed"
    },
    "tags": []
   },
   "source": [
    "## 4.2. Optimizer & Learning Rate Scheduler"
   ]
  },
  {
   "cell_type": "markdown",
   "id": "ae0b1c33",
   "metadata": {
    "id": "8o-VEBobKwHk",
    "papermill": {
     "duration": 0.042479,
     "end_time": "2022-06-28T20:46:43.264730",
     "exception": false,
     "start_time": "2022-06-28T20:46:43.222251",
     "status": "completed"
    },
    "tags": []
   },
   "source": [
    "Now that we have our model loaded we need to grab the training hyperparameters from within the stored model.\n",
    "\n",
    "For the purposes of fine-tuning, the authors recommend choosing from the following values:\n",
    "- Batch size: 16, 32  (We chose 32 when creating our DataLoaders).\n",
    "- Learning rate (Adam): 5e-5, 3e-5, 2e-5  (We'll use 2e-5).\n",
    "- Number of epochs: 2, 3, 4  (We'll use 4).\n",
    "\n",
    "The epsilon parameter `eps = 1e-8` is \"a very small number to prevent any division by zero in the implementation\" (from [here](https://machinelearningmastery.com/adam-optimization-algorithm-for-deep-learning/)).\n",
    "\n",
    "You can find the creation of the AdamW optimizer in `run_glue.py` [here](https://github.com/huggingface/transformers/blob/5bfcd0485ece086ebcbed2d008813037968a9e58/examples/run_glue.py#L109)."
   ]
  },
  {
   "cell_type": "code",
   "execution_count": 24,
   "id": "d02d82ea",
   "metadata": {
    "execution": {
     "iopub.execute_input": "2022-06-28T20:46:43.353476Z",
     "iopub.status.busy": "2022-06-28T20:46:43.353145Z",
     "iopub.status.idle": "2022-06-28T20:46:43.360061Z",
     "shell.execute_reply": "2022-06-28T20:46:43.359171Z"
    },
    "id": "GLs72DuMODJO",
    "papermill": {
     "duration": 0.053457,
     "end_time": "2022-06-28T20:46:43.362010",
     "exception": false,
     "start_time": "2022-06-28T20:46:43.308553",
     "status": "completed"
    },
    "tags": []
   },
   "outputs": [],
   "source": [
    "# Note: AdamW is a class from the huggingface library (as opposed to pytorch) \n",
    "# I believe the 'W' stands for 'Weight Decay fix\"\n",
    "optimizer = torch.optim.AdamW(model.parameters(),\n",
    "                  lr = 2e-5, # args.learning_rate - default is 5e-5, our notebook had 2e-5\n",
    "                  eps = 1e-8 # args.adam_epsilon  - default is 1e-8.\n",
    "                )\n"
   ]
  },
  {
   "cell_type": "code",
   "execution_count": 25,
   "id": "3994c441",
   "metadata": {
    "execution": {
     "iopub.execute_input": "2022-06-28T20:46:43.449184Z",
     "iopub.status.busy": "2022-06-28T20:46:43.448854Z",
     "iopub.status.idle": "2022-06-28T20:46:43.454479Z",
     "shell.execute_reply": "2022-06-28T20:46:43.453488Z"
    },
    "id": "-p0upAhhRiIx",
    "papermill": {
     "duration": 0.05143,
     "end_time": "2022-06-28T20:46:43.456563",
     "exception": false,
     "start_time": "2022-06-28T20:46:43.405133",
     "status": "completed"
    },
    "tags": []
   },
   "outputs": [],
   "source": [
    "from transformers import get_linear_schedule_with_warmup\n",
    "\n",
    "# Number of training epochs (authors recommend between 2 and 4)\n",
    "epochs = 4\n",
    "\n",
    "# Total number of training steps is number of batches * number of epochs.\n",
    "total_steps = len(train_dataloader) * epochs\n",
    "\n",
    "# Create the learning rate scheduler.\n",
    "scheduler = get_linear_schedule_with_warmup(optimizer, \n",
    "                                            num_warmup_steps = 0, # Default value in run_glue.py\n",
    "                                            num_training_steps = total_steps)"
   ]
  },
  {
   "cell_type": "markdown",
   "id": "65e1af80",
   "metadata": {
    "id": "RqfmWwUR_Sox",
    "papermill": {
     "duration": 0.042822,
     "end_time": "2022-06-28T20:46:43.542164",
     "exception": false,
     "start_time": "2022-06-28T20:46:43.499342",
     "status": "completed"
    },
    "tags": []
   },
   "source": [
    "## 4.3. Training Loop"
   ]
  },
  {
   "cell_type": "markdown",
   "id": "0182fdcc",
   "metadata": {
    "id": "pE5B99H5H2-W",
    "papermill": {
     "duration": 0.04303,
     "end_time": "2022-06-28T20:46:43.629263",
     "exception": false,
     "start_time": "2022-06-28T20:46:43.586233",
     "status": "completed"
    },
    "tags": []
   },
   "source": [
    "Define a helper function for calculating accuracy."
   ]
  },
  {
   "cell_type": "code",
   "execution_count": 26,
   "id": "86af5162",
   "metadata": {
    "execution": {
     "iopub.execute_input": "2022-06-28T20:46:43.715429Z",
     "iopub.status.busy": "2022-06-28T20:46:43.715081Z",
     "iopub.status.idle": "2022-06-28T20:46:43.720303Z",
     "shell.execute_reply": "2022-06-28T20:46:43.719363Z"
    },
    "id": "9cQNvaZ9bnyy",
    "papermill": {
     "duration": 0.051198,
     "end_time": "2022-06-28T20:46:43.722521",
     "exception": false,
     "start_time": "2022-06-28T20:46:43.671323",
     "status": "completed"
    },
    "tags": []
   },
   "outputs": [],
   "source": [
    "import numpy as np\n",
    "\n",
    "# Function to calculate the accuracy of our predictions vs labels\n",
    "def flat_accuracy(preds, labels):\n",
    "    pred_flat = np.argmax(preds, axis=1).flatten()\n",
    "    labels_flat = labels.flatten()\n",
    "    return np.sum(pred_flat == labels_flat) / len(labels_flat)"
   ]
  },
  {
   "cell_type": "markdown",
   "id": "597d0136",
   "metadata": {
    "id": "KNhRtWPXH9C3",
    "papermill": {
     "duration": 0.042015,
     "end_time": "2022-06-28T20:46:43.806716",
     "exception": false,
     "start_time": "2022-06-28T20:46:43.764701",
     "status": "completed"
    },
    "tags": []
   },
   "source": [
    "Helper function for formatting elapsed times.\n"
   ]
  },
  {
   "cell_type": "code",
   "execution_count": 27,
   "id": "22589d5e",
   "metadata": {
    "execution": {
     "iopub.execute_input": "2022-06-28T20:46:43.893429Z",
     "iopub.status.busy": "2022-06-28T20:46:43.893087Z",
     "iopub.status.idle": "2022-06-28T20:46:43.898498Z",
     "shell.execute_reply": "2022-06-28T20:46:43.897510Z"
    },
    "id": "gpt6tR83keZD",
    "papermill": {
     "duration": 0.050931,
     "end_time": "2022-06-28T20:46:43.900435",
     "exception": false,
     "start_time": "2022-06-28T20:46:43.849504",
     "status": "completed"
    },
    "tags": []
   },
   "outputs": [],
   "source": [
    "import time\n",
    "import datetime\n",
    "\n",
    "def format_time(elapsed):\n",
    "    '''\n",
    "    Takes a time in seconds and returns a string hh:mm:ss\n",
    "    '''\n",
    "    # Round to the nearest second.\n",
    "    elapsed_rounded = int(round((elapsed)))\n",
    "    \n",
    "    # Format as hh:mm:ss\n",
    "    return str(datetime.timedelta(seconds=elapsed_rounded))\n"
   ]
  },
  {
   "cell_type": "code",
   "execution_count": 28,
   "id": "5d548fc9",
   "metadata": {
    "execution": {
     "iopub.execute_input": "2022-06-28T20:46:44.039771Z",
     "iopub.status.busy": "2022-06-28T20:46:44.039378Z",
     "iopub.status.idle": "2022-06-28T21:04:23.934414Z",
     "shell.execute_reply": "2022-06-28T21:04:23.933407Z"
    },
    "id": "6J-FYdx6nFE_",
    "outputId": "71d66aec-105d-4cd2-defc-a8836947c64e",
    "papermill": {
     "duration": 1059.992494,
     "end_time": "2022-06-28T21:04:23.987196",
     "exception": false,
     "start_time": "2022-06-28T20:46:43.994702",
     "status": "completed"
    },
    "tags": []
   },
   "outputs": [
    {
     "name": "stdout",
     "output_type": "stream",
     "text": [
      "\n",
      "======== Epoch 1 / 4 ========\n",
      "Training...\n",
      "  Batch    40  of  1,266.    Elapsed: 0:00:09.\n",
      "  Batch    80  of  1,266.    Elapsed: 0:00:17.\n",
      "  Batch   120  of  1,266.    Elapsed: 0:00:25.\n",
      "  Batch   160  of  1,266.    Elapsed: 0:00:33.\n",
      "  Batch   200  of  1,266.    Elapsed: 0:00:41.\n",
      "  Batch   240  of  1,266.    Elapsed: 0:00:50.\n",
      "  Batch   280  of  1,266.    Elapsed: 0:00:58.\n",
      "  Batch   320  of  1,266.    Elapsed: 0:01:06.\n",
      "  Batch   360  of  1,266.    Elapsed: 0:01:14.\n",
      "  Batch   400  of  1,266.    Elapsed: 0:01:22.\n",
      "  Batch   440  of  1,266.    Elapsed: 0:01:30.\n",
      "  Batch   480  of  1,266.    Elapsed: 0:01:38.\n",
      "  Batch   520  of  1,266.    Elapsed: 0:01:46.\n",
      "  Batch   560  of  1,266.    Elapsed: 0:01:54.\n",
      "  Batch   600  of  1,266.    Elapsed: 0:02:03.\n",
      "  Batch   640  of  1,266.    Elapsed: 0:02:11.\n",
      "  Batch   680  of  1,266.    Elapsed: 0:02:19.\n",
      "  Batch   720  of  1,266.    Elapsed: 0:02:27.\n",
      "  Batch   760  of  1,266.    Elapsed: 0:02:35.\n",
      "  Batch   800  of  1,266.    Elapsed: 0:02:43.\n",
      "  Batch   840  of  1,266.    Elapsed: 0:02:51.\n",
      "  Batch   880  of  1,266.    Elapsed: 0:02:59.\n",
      "  Batch   920  of  1,266.    Elapsed: 0:03:07.\n",
      "  Batch   960  of  1,266.    Elapsed: 0:03:16.\n",
      "  Batch 1,000  of  1,266.    Elapsed: 0:03:24.\n",
      "  Batch 1,040  of  1,266.    Elapsed: 0:03:32.\n",
      "  Batch 1,080  of  1,266.    Elapsed: 0:03:40.\n",
      "  Batch 1,120  of  1,266.    Elapsed: 0:03:48.\n",
      "  Batch 1,160  of  1,266.    Elapsed: 0:03:56.\n",
      "  Batch 1,200  of  1,266.    Elapsed: 0:04:04.\n",
      "  Batch 1,240  of  1,266.    Elapsed: 0:04:12.\n",
      "\n",
      "  Average training loss: 0.42\n",
      "  Training epcoh took: 0:04:17\n",
      "\n",
      "Running Validation...\n",
      "  Accuracy: 0.84\n",
      "  Validation took: 0:00:08\n",
      "\n",
      "======== Epoch 2 / 4 ========\n",
      "Training...\n",
      "  Batch    40  of  1,266.    Elapsed: 0:00:08.\n",
      "  Batch    80  of  1,266.    Elapsed: 0:00:16.\n",
      "  Batch   120  of  1,266.    Elapsed: 0:00:24.\n",
      "  Batch   160  of  1,266.    Elapsed: 0:00:32.\n",
      "  Batch   200  of  1,266.    Elapsed: 0:00:41.\n",
      "  Batch   240  of  1,266.    Elapsed: 0:00:49.\n",
      "  Batch   280  of  1,266.    Elapsed: 0:00:57.\n",
      "  Batch   320  of  1,266.    Elapsed: 0:01:05.\n",
      "  Batch   360  of  1,266.    Elapsed: 0:01:13.\n",
      "  Batch   400  of  1,266.    Elapsed: 0:01:21.\n",
      "  Batch   440  of  1,266.    Elapsed: 0:01:29.\n",
      "  Batch   480  of  1,266.    Elapsed: 0:01:37.\n",
      "  Batch   520  of  1,266.    Elapsed: 0:01:45.\n",
      "  Batch   560  of  1,266.    Elapsed: 0:01:54.\n",
      "  Batch   600  of  1,266.    Elapsed: 0:02:02.\n",
      "  Batch   640  of  1,266.    Elapsed: 0:02:10.\n",
      "  Batch   680  of  1,266.    Elapsed: 0:02:18.\n",
      "  Batch   720  of  1,266.    Elapsed: 0:02:26.\n",
      "  Batch   760  of  1,266.    Elapsed: 0:02:34.\n",
      "  Batch   800  of  1,266.    Elapsed: 0:02:42.\n",
      "  Batch   840  of  1,266.    Elapsed: 0:02:50.\n",
      "  Batch   880  of  1,266.    Elapsed: 0:02:58.\n",
      "  Batch   920  of  1,266.    Elapsed: 0:03:07.\n",
      "  Batch   960  of  1,266.    Elapsed: 0:03:15.\n",
      "  Batch 1,000  of  1,266.    Elapsed: 0:03:23.\n",
      "  Batch 1,040  of  1,266.    Elapsed: 0:03:31.\n",
      "  Batch 1,080  of  1,266.    Elapsed: 0:03:39.\n",
      "  Batch 1,120  of  1,266.    Elapsed: 0:03:47.\n",
      "  Batch 1,160  of  1,266.    Elapsed: 0:03:55.\n",
      "  Batch 1,200  of  1,266.    Elapsed: 0:04:03.\n",
      "  Batch 1,240  of  1,266.    Elapsed: 0:04:11.\n",
      "\n",
      "  Average training loss: 0.27\n",
      "  Training epcoh took: 0:04:17\n",
      "\n",
      "Running Validation...\n",
      "  Accuracy: 0.85\n",
      "  Validation took: 0:00:08\n",
      "\n",
      "======== Epoch 3 / 4 ========\n",
      "Training...\n",
      "  Batch    40  of  1,266.    Elapsed: 0:00:08.\n",
      "  Batch    80  of  1,266.    Elapsed: 0:00:16.\n",
      "  Batch   120  of  1,266.    Elapsed: 0:00:24.\n",
      "  Batch   160  of  1,266.    Elapsed: 0:00:32.\n",
      "  Batch   200  of  1,266.    Elapsed: 0:00:41.\n",
      "  Batch   240  of  1,266.    Elapsed: 0:00:49.\n",
      "  Batch   280  of  1,266.    Elapsed: 0:00:57.\n",
      "  Batch   320  of  1,266.    Elapsed: 0:01:05.\n",
      "  Batch   360  of  1,266.    Elapsed: 0:01:13.\n",
      "  Batch   400  of  1,266.    Elapsed: 0:01:21.\n",
      "  Batch   440  of  1,266.    Elapsed: 0:01:29.\n",
      "  Batch   480  of  1,266.    Elapsed: 0:01:37.\n",
      "  Batch   520  of  1,266.    Elapsed: 0:01:45.\n",
      "  Batch   560  of  1,266.    Elapsed: 0:01:53.\n",
      "  Batch   600  of  1,266.    Elapsed: 0:02:02.\n",
      "  Batch   640  of  1,266.    Elapsed: 0:02:10.\n",
      "  Batch   680  of  1,266.    Elapsed: 0:02:18.\n",
      "  Batch   720  of  1,266.    Elapsed: 0:02:26.\n",
      "  Batch   760  of  1,266.    Elapsed: 0:02:34.\n",
      "  Batch   800  of  1,266.    Elapsed: 0:02:42.\n",
      "  Batch   840  of  1,266.    Elapsed: 0:02:50.\n",
      "  Batch   880  of  1,266.    Elapsed: 0:02:58.\n",
      "  Batch   920  of  1,266.    Elapsed: 0:03:06.\n",
      "  Batch   960  of  1,266.    Elapsed: 0:03:15.\n",
      "  Batch 1,000  of  1,266.    Elapsed: 0:03:23.\n",
      "  Batch 1,040  of  1,266.    Elapsed: 0:03:31.\n",
      "  Batch 1,080  of  1,266.    Elapsed: 0:03:39.\n",
      "  Batch 1,120  of  1,266.    Elapsed: 0:03:47.\n",
      "  Batch 1,160  of  1,266.    Elapsed: 0:03:55.\n",
      "  Batch 1,200  of  1,266.    Elapsed: 0:04:03.\n",
      "  Batch 1,240  of  1,266.    Elapsed: 0:04:11.\n",
      "\n",
      "  Average training loss: 0.17\n",
      "  Training epcoh took: 0:04:17\n",
      "\n",
      "Running Validation...\n",
      "  Accuracy: 0.85\n",
      "  Validation took: 0:00:08\n",
      "\n",
      "======== Epoch 4 / 4 ========\n",
      "Training...\n",
      "  Batch    40  of  1,266.    Elapsed: 0:00:08.\n",
      "  Batch    80  of  1,266.    Elapsed: 0:00:16.\n",
      "  Batch   120  of  1,266.    Elapsed: 0:00:24.\n",
      "  Batch   160  of  1,266.    Elapsed: 0:00:32.\n",
      "  Batch   200  of  1,266.    Elapsed: 0:00:41.\n",
      "  Batch   240  of  1,266.    Elapsed: 0:00:49.\n",
      "  Batch   280  of  1,266.    Elapsed: 0:00:57.\n",
      "  Batch   320  of  1,266.    Elapsed: 0:01:05.\n",
      "  Batch   360  of  1,266.    Elapsed: 0:01:13.\n",
      "  Batch   400  of  1,266.    Elapsed: 0:01:21.\n",
      "  Batch   440  of  1,266.    Elapsed: 0:01:29.\n",
      "  Batch   480  of  1,266.    Elapsed: 0:01:37.\n",
      "  Batch   520  of  1,266.    Elapsed: 0:01:45.\n",
      "  Batch   560  of  1,266.    Elapsed: 0:01:54.\n",
      "  Batch   600  of  1,266.    Elapsed: 0:02:02.\n",
      "  Batch   640  of  1,266.    Elapsed: 0:02:10.\n",
      "  Batch   680  of  1,266.    Elapsed: 0:02:18.\n",
      "  Batch   720  of  1,266.    Elapsed: 0:02:26.\n",
      "  Batch   760  of  1,266.    Elapsed: 0:02:34.\n",
      "  Batch   800  of  1,266.    Elapsed: 0:02:42.\n",
      "  Batch   840  of  1,266.    Elapsed: 0:02:50.\n",
      "  Batch   880  of  1,266.    Elapsed: 0:02:58.\n",
      "  Batch   920  of  1,266.    Elapsed: 0:03:06.\n",
      "  Batch   960  of  1,266.    Elapsed: 0:03:15.\n",
      "  Batch 1,000  of  1,266.    Elapsed: 0:03:23.\n",
      "  Batch 1,040  of  1,266.    Elapsed: 0:03:31.\n",
      "  Batch 1,080  of  1,266.    Elapsed: 0:03:39.\n",
      "  Batch 1,120  of  1,266.    Elapsed: 0:03:47.\n",
      "  Batch 1,160  of  1,266.    Elapsed: 0:03:55.\n",
      "  Batch 1,200  of  1,266.    Elapsed: 0:04:03.\n",
      "  Batch 1,240  of  1,266.    Elapsed: 0:04:11.\n",
      "\n",
      "  Average training loss: 0.11\n",
      "  Training epcoh took: 0:04:17\n",
      "\n",
      "Running Validation...\n",
      "  Accuracy: 0.85\n",
      "  Validation took: 0:00:08\n",
      "\n",
      "Training complete!\n"
     ]
    }
   ],
   "source": [
    "import random\n",
    "\n",
    "# This training code is based on the `run_glue.py` script here:\n",
    "# https://github.com/huggingface/transformers/blob/5bfcd0485ece086ebcbed2d008813037968a9e58/examples/run_glue.py#L128\n",
    "\n",
    "\n",
    "# Set the seed value all over the place to make this reproducible.\n",
    "seed_val = 42\n",
    "\n",
    "random.seed(seed_val)\n",
    "np.random.seed(seed_val)\n",
    "torch.manual_seed(seed_val)\n",
    "torch.cuda.manual_seed_all(seed_val)\n",
    "\n",
    "# Store the average loss after each epoch so we can plot them.\n",
    "loss_values = []\n",
    "\n",
    "# For each epoch...\n",
    "for epoch_i in range(0, epochs):\n",
    "    \n",
    "    # ========================================\n",
    "    #               Training\n",
    "    # ========================================\n",
    "    \n",
    "    # Perform one full pass over the training set.\n",
    "\n",
    "    print(\"\")\n",
    "    print('======== Epoch {:} / {:} ========'.format(epoch_i + 1, epochs))\n",
    "    print('Training...')\n",
    "\n",
    "    # Measure how long the training epoch takes.\n",
    "    t0 = time.time()\n",
    "\n",
    "    # Reset the total loss for this epoch.\n",
    "    total_loss = 0\n",
    "\n",
    "    # Put the model into training mode. Don't be mislead--the call to \n",
    "    # `train` just changes the *mode*, it doesn't *perform* the training.\n",
    "    # `dropout` and `batchnorm` layers behave differently during training\n",
    "    # vs. test (source: https://stackoverflow.com/questions/51433378/what-does-model-train-do-in-pytorch)\n",
    "    model.train()\n",
    "\n",
    "    # For each batch of training data...\n",
    "    for step, batch in enumerate(train_dataloader):\n",
    "\n",
    "        # Progress update every 40 batches.\n",
    "        if step % 40 == 0 and not step == 0:\n",
    "            # Calculate elapsed time in minutes.\n",
    "            elapsed = format_time(time.time() - t0)\n",
    "            \n",
    "            # Report progress.\n",
    "            print('  Batch {:>5,}  of  {:>5,}.    Elapsed: {:}.'.format(step, len(train_dataloader), elapsed))\n",
    "\n",
    "        # Unpack this training batch from our dataloader. \n",
    "        #\n",
    "        # As we unpack the batch, we'll also copy each tensor to the GPU using the \n",
    "        # `to` method.\n",
    "        #\n",
    "        # `batch` contains three pytorch tensors:\n",
    "        #   [0]: input ids \n",
    "        #   [1]: attention masks\n",
    "        #   [2]: labels \n",
    "        b_input_ids = batch[0].to(device)\n",
    "        b_input_mask = batch[1].to(device)\n",
    "        b_labels = batch[2].to(device)\n",
    "\n",
    "        # Always clear any previously calculated gradients before performing a\n",
    "        # backward pass. PyTorch doesn't do this automatically because \n",
    "        # accumulating the gradients is \"convenient while training RNNs\". \n",
    "        # (source: https://stackoverflow.com/questions/48001598/why-do-we-need-to-call-zero-grad-in-pytorch)\n",
    "        model.zero_grad()        \n",
    "\n",
    "        # Perform a forward pass (evaluate the model on this training batch).\n",
    "        # This will return the loss (rather than the model output) because we\n",
    "        # have provided the `labels`.\n",
    "        # The documentation for this `model` function is here: \n",
    "        # https://huggingface.co/transformers/v2.2.0/model_doc/bert.html#transformers.BertForSequenceClassification\n",
    "        outputs = model(b_input_ids, \n",
    "                    token_type_ids=None, \n",
    "                    attention_mask=b_input_mask, \n",
    "                    labels=b_labels)\n",
    "        \n",
    "        # The call to `model` always returns a tuple, so we need to pull the \n",
    "        # loss value out of the tuple.\n",
    "        loss = outputs[0]\n",
    "\n",
    "        # Accumulate the training loss over all of the batches so that we can\n",
    "        # calculate the average loss at the end. `loss` is a Tensor containing a\n",
    "        # single value; the `.item()` function just returns the Python value \n",
    "        # from the tensor.\n",
    "        total_loss += loss.item()\n",
    "\n",
    "        # Perform a backward pass to calculate the gradients.\n",
    "        loss.backward()\n",
    "\n",
    "        # Clip the norm of the gradients to 1.0.\n",
    "        # This is to help prevent the \"exploding gradients\" problem.\n",
    "        torch.nn.utils.clip_grad_norm_(model.parameters(), 1.0)\n",
    "\n",
    "        # Update parameters and take a step using the computed gradient.\n",
    "        # The optimizer dictates the \"update rule\"--how the parameters are\n",
    "        # modified based on their gradients, the learning rate, etc.\n",
    "        optimizer.step()\n",
    "\n",
    "        # Update the learning rate.\n",
    "        scheduler.step()\n",
    "\n",
    "    # Calculate the average loss over the training data.\n",
    "    avg_train_loss = total_loss / len(train_dataloader)            \n",
    "    \n",
    "    # Store the loss value for plotting the learning curve.\n",
    "    loss_values.append(avg_train_loss)\n",
    "\n",
    "    print(\"\")\n",
    "    print(\"  Average training loss: {0:.2f}\".format(avg_train_loss))\n",
    "    print(\"  Training epcoh took: {:}\".format(format_time(time.time() - t0)))\n",
    "        \n",
    "    # ========================================\n",
    "    #               Validation\n",
    "    # ========================================\n",
    "    # After the completion of each training epoch, measure our performance on\n",
    "    # our validation set.\n",
    "\n",
    "    print(\"\")\n",
    "    print(\"Running Validation...\")\n",
    "\n",
    "    t0 = time.time()\n",
    "\n",
    "    # Put the model in evaluation mode--the dropout layers behave differently\n",
    "    # during evaluation.\n",
    "    model.eval()\n",
    "\n",
    "    # Tracking variables \n",
    "    eval_loss, eval_accuracy = 0, 0\n",
    "    nb_eval_steps, nb_eval_examples = 0, 0\n",
    "\n",
    "    # Evaluate data for one epoch\n",
    "    for batch in validation_dataloader:\n",
    "        \n",
    "        # Add batch to GPU\n",
    "        batch = tuple(t.to(device) for t in batch)\n",
    "        \n",
    "        # Unpack the inputs from our dataloader\n",
    "        b_input_ids, b_input_mask, b_labels = batch\n",
    "        \n",
    "        # Telling the model not to compute or store gradients, saving memory and\n",
    "        # speeding up validation\n",
    "        with torch.no_grad():        \n",
    "\n",
    "            # Forward pass, calculate logit predictions.\n",
    "            # This will return the logits rather than the loss because we have\n",
    "            # not provided labels.\n",
    "            # token_type_ids is the same as the \"segment ids\", which \n",
    "            # differentiates sentence 1 and 2 in 2-sentence tasks.\n",
    "            # The documentation for this `model` function is here: \n",
    "            # https://huggingface.co/transformers/v2.2.0/model_doc/bert.html#transformers.BertForSequenceClassification\n",
    "            outputs = model(b_input_ids, \n",
    "                            token_type_ids=None, \n",
    "                            attention_mask=b_input_mask)\n",
    "        \n",
    "        # Get the \"logits\" output by the model. The \"logits\" are the output\n",
    "        # values prior to applying an activation function like the softmax.\n",
    "        logits = outputs[0]\n",
    "\n",
    "        # Move logits and labels to CPU\n",
    "        logits = logits.detach().cpu().numpy()\n",
    "        label_ids = b_labels.to('cpu').numpy()\n",
    "        \n",
    "        # Calculate the accuracy for this batch of test sentences.\n",
    "        tmp_eval_accuracy = flat_accuracy(logits, label_ids)\n",
    "        \n",
    "        # Accumulate the total accuracy.\n",
    "        eval_accuracy += tmp_eval_accuracy\n",
    "\n",
    "        # Track the number of batches\n",
    "        nb_eval_steps += 1\n",
    "\n",
    "    # Report the final accuracy for this validation run.\n",
    "    print(\"  Accuracy: {0:.2f}\".format(eval_accuracy/nb_eval_steps))\n",
    "    print(\"  Validation took: {:}\".format(format_time(time.time() - t0)))\n",
    "\n",
    "print(\"\")\n",
    "print(\"Training complete!\")"
   ]
  },
  {
   "cell_type": "code",
   "execution_count": 29,
   "id": "e27f31f2",
   "metadata": {
    "execution": {
     "iopub.execute_input": "2022-06-28T21:04:24.092125Z",
     "iopub.status.busy": "2022-06-28T21:04:24.090375Z",
     "iopub.status.idle": "2022-06-28T21:04:24.337467Z",
     "shell.execute_reply": "2022-06-28T21:04:24.336545Z"
    },
    "id": "68xreA9JAmG5",
    "outputId": "7e4cc7cc-1327-47da-dae3-6095fce65551",
    "papermill": {
     "duration": 0.300568,
     "end_time": "2022-06-28T21:04:24.339692",
     "exception": false,
     "start_time": "2022-06-28T21:04:24.039124",
     "status": "completed"
    },
    "tags": []
   },
   "outputs": [
    {
     "data": {
      "image/png": "[encoded data removed]",
      "text/plain": [
       "<Figure size 864x432 with 1 Axes>"
      ]
     },
     "metadata": {},
     "output_type": "display_data"
    }
   ],
   "source": [
    "import matplotlib.pyplot as plt\n",
    "#% matplotlib inline\n",
    "\n",
    "import seaborn as sns\n",
    "\n",
    "# Use plot styling from seaborn.\n",
    "sns.set(style='darkgrid')\n",
    "\n",
    "# Increase the plot size and font size.\n",
    "sns.set(font_scale=1.5)\n",
    "plt.rcParams[\"figure.figsize\"] = (12,6)\n",
    "\n",
    "# Plot the learning curve.\n",
    "plt.plot(loss_values, 'b-o')\n",
    "\n",
    "# Label the plot.\n",
    "plt.title(\"Training loss\")\n",
    "plt.xlabel(\"Epoch\")\n",
    "plt.ylabel(\"Loss\")\n",
    "\n",
    "plt.show()"
   ]
  },
  {
   "cell_type": "markdown",
   "id": "a94e37b7",
   "metadata": {
    "id": "mkyubuJSOzg3",
    "papermill": {
     "duration": 0.094932,
     "end_time": "2022-06-28T21:04:24.524942",
     "exception": false,
     "start_time": "2022-06-28T21:04:24.430010",
     "status": "completed"
    },
    "tags": []
   },
   "source": [
    "# 5. Performance On Test Set"
   ]
  },
  {
   "cell_type": "markdown",
   "id": "6e0ef9ac",
   "metadata": {
    "id": "Tg42jJqqM68F",
    "papermill": {
     "duration": 0.084084,
     "end_time": "2022-06-28T21:04:24.697845",
     "exception": false,
     "start_time": "2022-06-28T21:04:24.613761",
     "status": "completed"
    },
    "tags": []
   },
   "source": [
    "### 5.1. Data Preparation\n"
   ]
  },
  {
   "cell_type": "markdown",
   "id": "54fb2c74",
   "metadata": {
    "id": "xWe0_JW21MyV",
    "papermill": {
     "duration": 0.085122,
     "end_time": "2022-06-28T21:04:24.867421",
     "exception": false,
     "start_time": "2022-06-28T21:04:24.782299",
     "status": "completed"
    },
    "tags": []
   },
   "source": [
    "\n",
    "We'll need to apply all of the same steps that we did for the training data to prepare our test data set."
   ]
  },
  {
   "cell_type": "code",
   "execution_count": 30,
   "id": "09374372",
   "metadata": {
    "execution": {
     "iopub.execute_input": "2022-06-28T21:04:25.008084Z",
     "iopub.status.busy": "2022-06-28T21:04:25.007738Z",
     "iopub.status.idle": "2022-06-28T21:05:03.128753Z",
     "shell.execute_reply": "2022-06-28T21:05:03.127782Z"
    },
    "id": "mAN0LZBOOPVh",
    "outputId": "975b17e9-c906-4f59-bf93-a9b55374548e",
    "papermill": {
     "duration": 38.182874,
     "end_time": "2022-06-28T21:05:03.131425",
     "exception": false,
     "start_time": "2022-06-28T21:04:24.948551",
     "status": "completed"
    },
    "tags": []
   },
   "outputs": [
    {
     "name": "stdout",
     "output_type": "stream",
     "text": [
      "Number of test sentences: 5,000\n",
      "\n"
     ]
    }
   ],
   "source": [
    "import pandas as pd\n",
    "\n",
    "# Load the dataset into a pandas dataframe.\n",
    "#df = pd.read_csv(\"./cola_public/raw/out_of_domain_dev.tsv\", delimiter='\\t', header=None, names=['sentence_source', 'label', 'label_notes', 'sentence'])\n",
    "df  = test\n",
    "# Report the number of sentences.\n",
    "print('Number of test sentences: {:,}\\n'.format(df.shape[0]))\n",
    "\n",
    "# Create sentence and label lists\n",
    "sentences = df.review.values\n",
    "labels = df.sentiment.values\n",
    "\n",
    "# Tokenize all of the sentences and map the tokens to thier word IDs.\n",
    "input_ids = []\n",
    "\n",
    "# For every sentence...\n",
    "for sent in sentences:\n",
    "    # `encode` will:\n",
    "    #   (1) Tokenize the sentence.\n",
    "    #   (2) Prepend the `[CLS]` token to the start.\n",
    "    #   (3) Append the `[SEP]` token to the end.\n",
    "    #   (4) Map tokens to their IDs.\n",
    "    encoded_sent = tokenizer.encode(\n",
    "                        sent,                      # Sentence to encode.\n",
    "                        add_special_tokens = True, # Add '[CLS]' and '[SEP]'\n",
    "                   )\n",
    "    \n",
    "    input_ids.append(encoded_sent)\n",
    "\n",
    "# Pad our input tokens\n",
    "input_ids = pad_sequences(input_ids, maxlen=MAX_LEN, \n",
    "                          dtype=\"long\", truncating=\"post\", padding=\"post\")\n",
    "\n",
    "# Create attention masks\n",
    "attention_masks = []\n",
    "\n",
    "# Create a mask of 1s for each token followed by 0s for padding\n",
    "for seq in input_ids:\n",
    "  seq_mask = [float(i>0) for i in seq]\n",
    "  attention_masks.append(seq_mask) \n",
    "\n",
    "# Convert to tensors.\n",
    "prediction_inputs = torch.tensor(input_ids)\n",
    "prediction_masks = torch.tensor(attention_masks)\n",
    "prediction_labels = torch.tensor(labels)\n",
    "\n",
    "# Set the batch size.  \n",
    "batch_size = 32\n",
    "\n",
    "# Create the DataLoader.\n",
    "prediction_data = TensorDataset(prediction_inputs, prediction_masks, prediction_labels)\n",
    "prediction_sampler = SequentialSampler(prediction_data)\n",
    "prediction_dataloader = DataLoader(prediction_data, sampler=prediction_sampler, batch_size=batch_size)"
   ]
  },
  {
   "cell_type": "markdown",
   "id": "5ef2d989",
   "metadata": {
    "id": "16lctEOyNFik",
    "papermill": {
     "duration": 0.052562,
     "end_time": "2022-06-28T21:05:03.236733",
     "exception": false,
     "start_time": "2022-06-28T21:05:03.184171",
     "status": "completed"
    },
    "tags": []
   },
   "source": [
    "## 5.2. Evaluate on Test Set\n"
   ]
  },
  {
   "cell_type": "markdown",
   "id": "838aef46",
   "metadata": {
    "id": "rhR99IISNMg9",
    "papermill": {
     "duration": 0.05117,
     "end_time": "2022-06-28T21:05:03.339870",
     "exception": false,
     "start_time": "2022-06-28T21:05:03.288700",
     "status": "completed"
    },
    "tags": []
   },
   "source": [
    "\n",
    "With the test set prepared, we can apply our fine-tuned model to generate predictions on the test set."
   ]
  },
  {
   "cell_type": "code",
   "execution_count": 31,
   "id": "ddbe4f35",
   "metadata": {
    "execution": {
     "iopub.execute_input": "2022-06-28T21:05:03.444530Z",
     "iopub.status.busy": "2022-06-28T21:05:03.444185Z",
     "iopub.status.idle": "2022-06-28T21:05:12.538737Z",
     "shell.execute_reply": "2022-06-28T21:05:12.537656Z"
    },
    "id": "Hba10sXR7Xi6",
    "outputId": "418390e2-b264-402f-9834-87d2e56f3ff7",
    "papermill": {
     "duration": 9.149273,
     "end_time": "2022-06-28T21:05:12.540811",
     "exception": false,
     "start_time": "2022-06-28T21:05:03.391538",
     "status": "completed"
    },
    "tags": []
   },
   "outputs": [
    {
     "name": "stdout",
     "output_type": "stream",
     "text": [
      "Predicting labels for 5,000 test sentences...\n",
      "    DONE.\n"
     ]
    }
   ],
   "source": [
    "# Prediction on test set\n",
    "\n",
    "print('Predicting labels for {:,} test sentences...'.format(len(prediction_inputs)))\n",
    "\n",
    "# Put model in evaluation mode\n",
    "model.eval()\n",
    "\n",
    "# Tracking variables \n",
    "predictions , true_labels = [], []\n",
    "\n",
    "# Predict \n",
    "for batch in prediction_dataloader:\n",
    "  # Add batch to GPU\n",
    "  batch = tuple(t.to(device) for t in batch)\n",
    "  \n",
    "  # Unpack the inputs from our dataloader\n",
    "  b_input_ids, b_input_mask, b_labels = batch\n",
    "  \n",
    "  # Telling the model not to compute or store gradients, saving memory and \n",
    "  # speeding up prediction\n",
    "  with torch.no_grad():\n",
    "      # Forward pass, calculate logit predictions\n",
    "      outputs = model(b_input_ids, token_type_ids=None, \n",
    "                      attention_mask=b_input_mask)\n",
    "\n",
    "  logits = outputs[0]\n",
    "\n",
    "  # Move logits and labels to CPU\n",
    "  logits = logits.detach().cpu().numpy()\n",
    "  label_ids = b_labels.to('cpu').numpy()\n",
    "  \n",
    "  # Store predictions and true labels\n",
    "  predictions.append(logits)\n",
    "  true_labels.append(label_ids)\n",
    "\n",
    "print('    DONE.')"
   ]
  },
  {
   "cell_type": "code",
   "execution_count": 32,
   "id": "474f5b74",
   "metadata": {
    "execution": {
     "iopub.execute_input": "2022-06-28T21:05:12.646521Z",
     "iopub.status.busy": "2022-06-28T21:05:12.645690Z",
     "iopub.status.idle": "2022-06-28T21:05:12.652780Z",
     "shell.execute_reply": "2022-06-28T21:05:12.651734Z"
    },
    "id": "hWcy0X1hirdx",
    "outputId": "3dd0a61a-70cd-4bb7-a0b3-90ee6992ff0f",
    "papermill": {
     "duration": 0.063524,
     "end_time": "2022-06-28T21:05:12.655604",
     "exception": false,
     "start_time": "2022-06-28T21:05:12.592080",
     "status": "completed"
    },
    "tags": []
   },
   "outputs": [
    {
     "name": "stdout",
     "output_type": "stream",
     "text": [
      "Positive samples: 2521 of 5000 (50.42%)\n"
     ]
    }
   ],
   "source": [
    "print('Positive samples: %d of %d (%.2f%%)' % (df.sentiment.sum(), len(df.sentiment), (df.sentiment.sum() / len(df.sentiment) * 100.0)))"
   ]
  },
  {
   "cell_type": "code",
   "execution_count": 33,
   "id": "8f0d410e",
   "metadata": {
    "execution": {
     "iopub.execute_input": "2022-06-28T21:05:12.759418Z",
     "iopub.status.busy": "2022-06-28T21:05:12.758809Z",
     "iopub.status.idle": "2022-06-28T21:05:12.786726Z",
     "shell.execute_reply": "2022-06-28T21:05:12.785657Z"
    },
    "id": "cRaZQ4XC7kLs",
    "outputId": "13a30575-38c2-44e4-ec79-cb69a6e8d6a7",
    "papermill": {
     "duration": 0.083404,
     "end_time": "2022-06-28T21:05:12.789515",
     "exception": false,
     "start_time": "2022-06-28T21:05:12.706111",
     "status": "completed"
    },
    "tags": []
   },
   "outputs": [
    {
     "name": "stdout",
     "output_type": "stream",
     "text": [
      "Calculating Accuracy score for each batch...\n"
     ]
    }
   ],
   "source": [
    "#from sklearn.metrics import matthews_corrcoef\n",
    "\n",
    "scores = []\n",
    "\n",
    "# Evaluate each test batch using Matthew's correlation coefficient\n",
    "print('Calculating Accuracy score for each batch...')\n",
    "\n",
    "# For each input batch...\n",
    "for i in range(len(true_labels)):\n",
    "  \n",
    "  # The predictions for this batch are a 2-column ndarray (one column for \"0\" \n",
    "  # and one column for \"1\"). Pick the label with the highest value and turn this\n",
    "  # in to a list of 0s and 1s.\n",
    "  pred_labels_i = np.argmax(predictions[i], axis=1).flatten()\n",
    "  \n",
    "  # Calculate and store the coef for this batch.  \n",
    "  score = accuracy_score(true_labels[i], pred_labels_i)                \n",
    "  scores.append(score)"
   ]
  },
  {
   "cell_type": "code",
   "execution_count": 34,
   "id": "cb95a1b9",
   "metadata": {
    "execution": {
     "iopub.execute_input": "2022-06-28T21:05:12.895547Z",
     "iopub.status.busy": "2022-06-28T21:05:12.895210Z",
     "iopub.status.idle": "2022-06-28T21:05:12.904303Z",
     "shell.execute_reply": "2022-06-28T21:05:12.903279Z"
    },
    "id": "xytAr_C48wnu",
    "outputId": "7464e6cb-df84-4029-e7dd-8933260a93ba",
    "papermill": {
     "duration": 0.065317,
     "end_time": "2022-06-28T21:05:12.907322",
     "exception": false,
     "start_time": "2022-06-28T21:05:12.842005",
     "status": "completed"
    },
    "tags": []
   },
   "outputs": [
    {
     "data": {
      "text/plain": [
       "[0.75,\n",
       " 0.84375,\n",
       " 0.9375,\n",
       " 0.8125,\n",
       " 0.9375,\n",
       " 0.9375,\n",
       " 0.875,\n",
       " 0.78125,\n",
       " 0.8125,\n",
       " 0.875,\n",
       " 0.90625,\n",
       " 0.90625,\n",
       " 0.875,\n",
       " 0.71875,\n",
       " 0.84375,\n",
       " 0.78125,\n",
       " 0.84375,\n",
       " 0.875,\n",
       " 0.8125,\n",
       " 0.84375,\n",
       " 0.96875,\n",
       " 0.9375,\n",
       " 0.75,\n",
       " 0.90625,\n",
       " 0.84375,\n",
       " 0.78125,\n",
       " 0.8125,\n",
       " 0.84375,\n",
       " 0.8125,\n",
       " 0.71875,\n",
       " 0.6875,\n",
       " 0.78125,\n",
       " 0.9375,\n",
       " 0.875,\n",
       " 0.875,\n",
       " 0.90625,\n",
       " 0.9375,\n",
       " 0.90625,\n",
       " 0.96875,\n",
       " 0.8125,\n",
       " 0.84375,\n",
       " 0.90625,\n",
       " 0.875,\n",
       " 0.8125,\n",
       " 0.90625,\n",
       " 0.8125,\n",
       " 0.875,\n",
       " 0.8125,\n",
       " 0.90625,\n",
       " 0.90625,\n",
       " 0.90625,\n",
       " 0.90625,\n",
       " 0.84375,\n",
       " 0.90625,\n",
       " 0.8125,\n",
       " 0.84375,\n",
       " 0.90625,\n",
       " 0.90625,\n",
       " 0.8125,\n",
       " 0.875,\n",
       " 0.6875,\n",
       " 0.8125,\n",
       " 0.78125,\n",
       " 0.875,\n",
       " 0.78125,\n",
       " 0.84375,\n",
       " 0.84375,\n",
       " 0.90625,\n",
       " 0.84375,\n",
       " 0.75,\n",
       " 0.78125,\n",
       " 0.84375,\n",
       " 0.875,\n",
       " 0.84375,\n",
       " 0.9375,\n",
       " 0.90625,\n",
       " 0.8125,\n",
       " 0.84375,\n",
       " 0.84375,\n",
       " 0.8125,\n",
       " 0.8125,\n",
       " 0.84375,\n",
       " 0.875,\n",
       " 0.8125,\n",
       " 0.90625,\n",
       " 0.90625,\n",
       " 0.84375,\n",
       " 0.8125,\n",
       " 0.84375,\n",
       " 0.8125,\n",
       " 0.90625,\n",
       " 0.875,\n",
       " 0.90625,\n",
       " 0.84375,\n",
       " 0.9375,\n",
       " 0.8125,\n",
       " 0.8125,\n",
       " 0.84375,\n",
       " 0.875,\n",
       " 0.84375,\n",
       " 0.84375,\n",
       " 0.84375,\n",
       " 0.875,\n",
       " 0.8125,\n",
       " 0.84375,\n",
       " 0.90625,\n",
       " 0.9375,\n",
       " 0.90625,\n",
       " 0.875,\n",
       " 0.96875,\n",
       " 0.90625,\n",
       " 0.96875,\n",
       " 0.90625,\n",
       " 0.8125,\n",
       " 0.75,\n",
       " 0.84375,\n",
       " 0.875,\n",
       " 0.84375,\n",
       " 0.90625,\n",
       " 0.875,\n",
       " 0.84375,\n",
       " 0.875,\n",
       " 0.8125,\n",
       " 0.90625,\n",
       " 0.90625,\n",
       " 0.78125,\n",
       " 0.6875,\n",
       " 0.96875,\n",
       " 0.90625,\n",
       " 0.90625,\n",
       " 0.8125,\n",
       " 0.8125,\n",
       " 0.90625,\n",
       " 0.78125,\n",
       " 0.875,\n",
       " 0.84375,\n",
       " 0.84375,\n",
       " 0.875,\n",
       " 0.8125,\n",
       " 0.90625,\n",
       " 0.8125,\n",
       " 0.9375,\n",
       " 0.84375,\n",
       " 0.96875,\n",
       " 0.8125,\n",
       " 0.84375,\n",
       " 0.8125,\n",
       " 0.84375,\n",
       " 0.84375,\n",
       " 0.84375,\n",
       " 0.9375,\n",
       " 0.875,\n",
       " 0.875,\n",
       " 0.84375,\n",
       " 0.875,\n",
       " 0.875,\n",
       " 0.875]"
      ]
     },
     "execution_count": 34,
     "metadata": {},
     "output_type": "execute_result"
    }
   ],
   "source": [
    "scores"
   ]
  },
  {
   "cell_type": "code",
   "execution_count": 35,
   "id": "22fa7f16",
   "metadata": {
    "execution": {
     "iopub.execute_input": "2022-06-28T21:05:13.014134Z",
     "iopub.status.busy": "2022-06-28T21:05:13.013218Z",
     "iopub.status.idle": "2022-06-28T21:05:13.027231Z",
     "shell.execute_reply": "2022-06-28T21:05:13.025977Z"
    },
    "id": "oCYZa1lQ8Jn8",
    "outputId": "0f041f56-ffca-4097-a1c9-4878918e83a0",
    "papermill": {
     "duration": 0.07037,
     "end_time": "2022-06-28T21:05:13.029892",
     "exception": false,
     "start_time": "2022-06-28T21:05:12.959522",
     "status": "completed"
    },
    "tags": []
   },
   "outputs": [
    {
     "name": "stdout",
     "output_type": "stream",
     "text": [
      "ACC: 0.856\n"
     ]
    }
   ],
   "source": [
    "# Combine the predictions for each batch into a single list of 0s and 1s.\n",
    "flat_predictions = [item for sublist in predictions for item in sublist]\n",
    "flat_predictions = np.argmax(flat_predictions, axis=1).flatten()\n",
    "\n",
    "# Combine the correct labels for each batch into a single list.\n",
    "flat_true_labels = [item for sublist in true_labels for item in sublist]\n",
    "\n",
    "# Calculate the MCC\n",
    "mcc = accuracy_score(flat_true_labels, flat_predictions)\n",
    "\n",
    "print('ACC: %.3f' % mcc)"
   ]
  },
  {
   "cell_type": "markdown",
   "id": "dcf626f2",
   "metadata": {
    "id": "q2079Qyn8Mt8",
    "papermill": {
     "duration": 0.052172,
     "end_time": "2022-06-28T21:05:13.134978",
     "exception": false,
     "start_time": "2022-06-28T21:05:13.082806",
     "status": "completed"
    },
    "tags": []
   },
   "source": [
    "## A1. Saving & Loading Fine-Tuned Model\n",
    "\n",
    "This first cell (taken from `run_glue.py` [here](https://github.com/huggingface/transformers/blob/35ff345fc9df9e777b27903f11fa213e4052595b/examples/run_glue.py#L495)) writes the model and tokenizer out to disk."
   ]
  },
  {
   "cell_type": "code",
   "execution_count": 36,
   "id": "99a6115e",
   "metadata": {
    "execution": {
     "iopub.execute_input": "2022-06-28T21:05:13.240801Z",
     "iopub.status.busy": "2022-06-28T21:05:13.240431Z",
     "iopub.status.idle": "2022-06-28T21:05:14.001923Z",
     "shell.execute_reply": "2022-06-28T21:05:14.000967Z"
    },
    "id": "6ulTWaOr8QNY",
    "outputId": "005899af-7702-4f8f-f956-b00cd3a5934a",
    "papermill": {
     "duration": 0.817453,
     "end_time": "2022-06-28T21:05:14.004196",
     "exception": false,
     "start_time": "2022-06-28T21:05:13.186743",
     "status": "completed"
    },
    "tags": []
   },
   "outputs": [
    {
     "name": "stdout",
     "output_type": "stream",
     "text": [
      "Saving model to ./model_save/\n"
     ]
    },
    {
     "data": {
      "text/plain": [
       "('./model_save/tokenizer_config.json',\n",
       " './model_save/special_tokens_map.json',\n",
       " './model_save/vocab.txt',\n",
       " './model_save/added_tokens.json')"
      ]
     },
     "execution_count": 36,
     "metadata": {},
     "output_type": "execute_result"
    }
   ],
   "source": [
    "import os\n",
    "\n",
    "# Saving best-practices: if you use defaults names for the model, you can reload it using from_pretrained()\n",
    "\n",
    "output_dir = './model_save/'\n",
    "\n",
    "# Create output directory if needed\n",
    "if not os.path.exists(output_dir):\n",
    "    os.makedirs(output_dir)\n",
    "\n",
    "print(\"Saving model to %s\" % output_dir)\n",
    "\n",
    "# Save a trained model, configuration and tokenizer using `save_pretrained()`.\n",
    "# They can then be reloaded using `from_pretrained()`\n",
    "model_to_save = model.module if hasattr(model, 'module') else model  # Take care of distributed/parallel training\n",
    "model_to_save.save_pretrained(output_dir)\n",
    "tokenizer.save_pretrained(output_dir)\n"
   ]
  },
  {
   "cell_type": "markdown",
   "id": "a4db7af3",
   "metadata": {
    "id": "Z-tjHkR7lc1I",
    "papermill": {
     "duration": 0.052934,
     "end_time": "2022-06-28T21:05:14.110386",
     "exception": false,
     "start_time": "2022-06-28T21:05:14.057452",
     "status": "completed"
    },
    "tags": []
   },
   "source": [
    "Let's check out the file sizes, out of curiosity."
   ]
  },
  {
   "cell_type": "code",
   "execution_count": 37,
   "id": "15c31621",
   "metadata": {
    "execution": {
     "iopub.execute_input": "2022-06-28T21:05:14.216240Z",
     "iopub.status.busy": "2022-06-28T21:05:14.215889Z",
     "iopub.status.idle": "2022-06-28T21:05:14.927494Z",
     "shell.execute_reply": "2022-06-28T21:05:14.926318Z"
    },
    "id": "mqMzI3VTCZo5",
    "outputId": "e4e435b9-c22f-4226-8bd1-d01cf090f4fa",
    "papermill": {
     "duration": 0.767598,
     "end_time": "2022-06-28T21:05:14.930040",
     "exception": false,
     "start_time": "2022-06-28T21:05:14.162442",
     "status": "completed"
    },
    "tags": []
   },
   "outputs": [
    {
     "name": "stdout",
     "output_type": "stream",
     "text": [
      "total 427984K\r\n",
      "-rw-r--r-- 1 root root      1K Jun 28 21:05 config.json\r\n",
      "-rw-r--r-- 1 root root 427741K Jun 28 21:05 pytorch_model.bin\r\n",
      "-rw-r--r-- 1 root root      1K Jun 28 21:05 special_tokens_map.json\r\n",
      "-rw-r--r-- 1 root root      1K Jun 28 21:05 tokenizer_config.json\r\n",
      "-rw-r--r-- 1 root root    227K Jun 28 21:05 vocab.txt\r\n"
     ]
    }
   ],
   "source": [
    "!ls -l --block-size=K ./model_save/"
   ]
  },
  {
   "cell_type": "code",
   "execution_count": 38,
   "id": "e6b3197b",
   "metadata": {
    "execution": {
     "iopub.execute_input": "2022-06-28T21:05:15.039222Z",
     "iopub.status.busy": "2022-06-28T21:05:15.037404Z",
     "iopub.status.idle": "2022-06-28T21:05:15.788170Z",
     "shell.execute_reply": "2022-06-28T21:05:15.787163Z"
    },
    "papermill": {
     "duration": 0.808054,
     "end_time": "2022-06-28T21:05:15.790967",
     "exception": false,
     "start_time": "2022-06-28T21:05:14.982913",
     "status": "completed"
    },
    "tags": []
   },
   "outputs": [],
   "source": [
    " torch.save(model.state_dict(), \"SentimentAnalysis.pt\")"
   ]
  },
  {
   "cell_type": "code",
   "execution_count": 39,
   "id": "20c4def2",
   "metadata": {
    "execution": {
     "iopub.execute_input": "2022-06-28T21:05:15.897286Z",
     "iopub.status.busy": "2022-06-28T21:05:15.896939Z",
     "iopub.status.idle": "2022-06-28T21:05:15.903230Z",
     "shell.execute_reply": "2022-06-28T21:05:15.902340Z"
    },
    "papermill": {
     "duration": 0.061665,
     "end_time": "2022-06-28T21:05:15.905114",
     "exception": false,
     "start_time": "2022-06-28T21:05:15.843449",
     "status": "completed"
    },
    "tags": []
   },
   "outputs": [
    {
     "data": {
      "text/plain": [
       "\"from IPython.display import FileLink\\nFileLink(r'processed_file.zip')\""
      ]
     },
     "execution_count": 39,
     "metadata": {},
     "output_type": "execute_result"
    }
   ],
   "source": [
    "\"\"\"from IPython.display import FileLink\n",
    "FileLink(r'processed_file.zip')\"\"\"\n"
   ]
  },
  {
   "cell_type": "markdown",
   "id": "23a8dfaa",
   "metadata": {
    "id": "fr_bt2rFlgDn",
    "papermill": {
     "duration": 0.101748,
     "end_time": "2022-06-28T21:05:16.058334",
     "exception": false,
     "start_time": "2022-06-28T21:05:15.956586",
     "status": "completed"
    },
    "tags": []
   },
   "source": [
    "The largest file is the model weights, at around 418 megabytes."
   ]
  },
  {
   "cell_type": "code",
   "execution_count": 40,
   "id": "f744cab2",
   "metadata": {
    "execution": {
     "iopub.execute_input": "2022-06-28T21:05:16.165095Z",
     "iopub.status.busy": "2022-06-28T21:05:16.164747Z",
     "iopub.status.idle": "2022-06-28T21:05:16.880861Z",
     "shell.execute_reply": "2022-06-28T21:05:16.879423Z"
    },
    "id": "-WUFUIQ8Cu8D",
    "outputId": "c4490ecf-ffce-49f7-fe2e-fba9d3ebdd9e",
    "papermill": {
     "duration": 0.772045,
     "end_time": "2022-06-28T21:05:16.883259",
     "exception": false,
     "start_time": "2022-06-28T21:05:16.111214",
     "status": "completed"
    },
    "tags": []
   },
   "outputs": [
    {
     "name": "stdout",
     "output_type": "stream",
     "text": [
      "-rw-r--r-- 1 root root 418M Jun 28 21:05 ./model_save/pytorch_model.bin\r\n"
     ]
    }
   ],
   "source": [
    "!ls -l --block-size=M ./model_save/pytorch_model.bin"
   ]
  }
 ],
 "metadata": {
  "kernelspec": {
   "display_name": "Python 3",
   "language": "python",
   "name": "python3"
  },
  "language_info": {
   "codemirror_mode": {
    "name": "ipython",
    "version": 3
   },
   "file_extension": ".py",
   "mimetype": "text/x-python",
   "name": "python",
   "nbconvert_exporter": "python",
   "pygments_lexer": "ipython3",
   "version": "3.7.12"
  },
  "papermill": {
   "default_parameters": {},
   "duration": 1616.179105,
   "end_time": "2022-06-28T21:05:19.880528",
   "environment_variables": {},
   "exception": null,
   "input_path": "__notebook__.ipynb",
   "output_path": "__notebook__.ipynb",
   "parameters": {},
   "start_time": "2022-06-28T20:38:23.701423",
   "version": "2.3.4"
  },
  "widgets": {
   "application/vnd.jupyter.widget-state+json": {
    "state": {
     "0ceaa29a259144319d5ca5fd2c688f6d": {
      "model_module": "@jupyter-widgets/base",
      "model_module_version": "1.2.0",
      "model_name": "LayoutModel",
      "state": {
       "_model_module": "@jupyter-widgets/base",
       "_model_module_version": "1.2.0",
       "_model_name": "LayoutModel",
       "_view_count": null,
       "_view_module": "@jupyter-widgets/base",
       "_view_module_version": "1.2.0",
       "_view_name": "LayoutView",
       "align_content": null,
       "align_items": null,
       "align_self": null,
       "border": null,
       "bottom": null,
       "display": null,
       "flex": null,
       "flex_flow": null,
       "grid_area": null,
       "grid_auto_columns": null,
       "grid_auto_flow": null,
       "grid_auto_rows": null,
       "grid_column": null,
       "grid_gap": null,
       "grid_row": null,
       "grid_template_areas": null,
       "grid_template_columns": null,
       "grid_template_rows": null,
       "height": null,
       "justify_content": null,
       "justify_items": null,
       "left": null,
       "margin": null,
       "max_height": null,
       "max_width": null,
       "min_height": null,
       "min_width": null,
       "object_fit": null,
       "object_position": null,
       "order": null,
       "overflow": null,
       "overflow_x": null,
       "overflow_y": null,
       "padding": null,
       "right": null,
       "top": null,
       "visibility": null,
       "width": null
      }
     },
     "0f81e08eef8546b1b920177752f441a4": {
      "model_module": "@jupyter-widgets/base",
      "model_module_version": "1.2.0",
      "model_name": "LayoutModel",
      "state": {
       "_model_module": "@jupyter-widgets/base",
       "_model_module_version": "1.2.0",
       "_model_name": "LayoutModel",
       "_view_count": null,
       "_view_module": "@jupyter-widgets/base",
       "_view_module_version": "1.2.0",
       "_view_name": "LayoutView",
       "align_content": null,
       "align_items": null,
       "align_self": null,
       "border": null,
       "bottom": null,
       "display": null,
       "flex": null,
       "flex_flow": null,
       "grid_area": null,
       "grid_auto_columns": null,
       "grid_auto_flow": null,
       "grid_auto_rows": null,
       "grid_column": null,
       "grid_gap": null,
       "grid_row": null,
       "grid_template_areas": null,
       "grid_template_columns": null,
       "grid_template_rows": null,
       "height": null,
       "justify_content": null,
       "justify_items": null,
       "left": null,
       "margin": null,
       "max_height": null,
       "max_width": null,
       "min_height": null,
       "min_width": null,
       "object_fit": null,
       "object_position": null,
       "order": null,
       "overflow": null,
       "overflow_x": null,
       "overflow_y": null,
       "padding": null,
       "right": null,
       "top": null,
       "visibility": null,
       "width": null
      }
     },
     "202d1a8340dc48c5a6afb7cebc3b235d": {
      "model_module": "@jupyter-widgets/controls",
      "model_module_version": "1.5.0",
      "model_name": "DescriptionStyleModel",
      "state": {
       "_model_module": "@jupyter-widgets/controls",
       "_model_module_version": "1.5.0",
       "_model_name": "DescriptionStyleModel",
       "_view_count": null,
       "_view_module": "@jupyter-widgets/base",
       "_view_module_version": "1.2.0",
       "_view_name": "StyleView",
       "description_width": ""
      }
     },
     "22952ec0ee2f43cfbe0b6af3a3274c98": {
      "model_module": "@jupyter-widgets/base",
      "model_module_version": "1.2.0",
      "model_name": "LayoutModel",
      "state": {
       "_model_module": "@jupyter-widgets/base",
       "_model_module_version": "1.2.0",
       "_model_name": "LayoutModel",
       "_view_count": null,
       "_view_module": "@jupyter-widgets/base",
       "_view_module_version": "1.2.0",
       "_view_name": "LayoutView",
       "align_content": null,
       "align_items": null,
       "align_self": null,
       "border": null,
       "bottom": null,
       "display": null,
       "flex": null,
       "flex_flow": null,
       "grid_area": null,
       "grid_auto_columns": null,
       "grid_auto_flow": null,
       "grid_auto_rows": null,
       "grid_column": null,
       "grid_gap": null,
       "grid_row": null,
       "grid_template_areas": null,
       "grid_template_columns": null,
       "grid_template_rows": null,
       "height": null,
       "justify_content": null,
       "justify_items": null,
       "left": null,
       "margin": null,
       "max_height": null,
       "max_width": null,
       "min_height": null,
       "min_width": null,
       "object_fit": null,
       "object_position": null,
       "order": null,
       "overflow": null,
       "overflow_x": null,
       "overflow_y": null,
       "padding": null,
       "right": null,
       "top": null,
       "visibility": null,
       "width": null
      }
     },
     "241a464980c04f03a5c2e293069fd271": {
      "model_module": "@jupyter-widgets/controls",
      "model_module_version": "1.5.0",
      "model_name": "HTMLModel",
      "state": {
       "_dom_classes": [],
       "_model_module": "@jupyter-widgets/controls",
       "_model_module_version": "1.5.0",
       "_model_name": "HTMLModel",
       "_view_count": null,
       "_view_module": "@jupyter-widgets/controls",
       "_view_module_version": "1.5.0",
       "_view_name": "HTMLView",
       "description": "",
       "description_tooltip": null,
       "layout": "IPY_MODEL_ae804f7fbf5141b0ab66a7380a08bc38",
       "placeholder": "​",
       "style": "IPY_MODEL_912274c2763f41bfac9853752a5813ae",
       "value": "Downloading: 100%"
      }
     },
     "4304f428ba89411d97a2ec095937252d": {
      "model_module": "@jupyter-widgets/base",
      "model_module_version": "1.2.0",
      "model_name": "LayoutModel",
      "state": {
       "_model_module": "@jupyter-widgets/base",
       "_model_module_version": "1.2.0",
       "_model_name": "LayoutModel",
       "_view_count": null,
       "_view_module": "@jupyter-widgets/base",
       "_view_module_version": "1.2.0",
       "_view_name": "LayoutView",
       "align_content": null,
       "align_items": null,
       "align_self": null,
       "border": null,
       "bottom": null,
       "display": null,
       "flex": null,
       "flex_flow": null,
       "grid_area": null,
       "grid_auto_columns": null,
       "grid_auto_flow": null,
       "grid_auto_rows": null,
       "grid_column": null,
       "grid_gap": null,
       "grid_row": null,
       "grid_template_areas": null,
       "grid_template_columns": null,
       "grid_template_rows": null,
       "height": null,
       "justify_content": null,
       "justify_items": null,
       "left": null,
       "margin": null,
       "max_height": null,
       "max_width": null,
       "min_height": null,
       "min_width": null,
       "object_fit": null,
       "object_position": null,
       "order": null,
       "overflow": null,
       "overflow_x": null,
       "overflow_y": null,
       "padding": null,
       "right": null,
       "top": null,
       "visibility": null,
       "width": null
      }
     },
     "4457c2a9d02d4bf7acbdb54d953996c8": {
      "model_module": "@jupyter-widgets/controls",
      "model_module_version": "1.5.0",
      "model_name": "HTMLModel",
      "state": {
       "_dom_classes": [],
       "_model_module": "@jupyter-widgets/controls",
       "_model_module_version": "1.5.0",
       "_model_name": "HTMLModel",
       "_view_count": null,
       "_view_module": "@jupyter-widgets/controls",
       "_view_module_version": "1.5.0",
       "_view_name": "HTMLView",
       "description": "",
       "description_tooltip": null,
       "layout": "IPY_MODEL_e5be7e9f2a3443cb99a77ffd4671a8f0",
       "placeholder": "​",
       "style": "IPY_MODEL_fcb5e32415474d1db3a6cc5bb2c379fc",
       "value": " 28.0/28.0 [00:00&lt;00:00, 1.02kB/s]"
      }
     },
     "4603884423574051999b3d3ef7dac8e7": {
      "model_module": "@jupyter-widgets/base",
      "model_module_version": "1.2.0",
      "model_name": "LayoutModel",
      "state": {
       "_model_module": "@jupyter-widgets/base",
       "_model_module_version": "1.2.0",
       "_model_name": "LayoutModel",
       "_view_count": null,
       "_view_module": "@jupyter-widgets/base",
       "_view_module_version": "1.2.0",
       "_view_name": "LayoutView",
       "align_content": null,
       "align_items": null,
       "align_self": null,
       "border": null,
       "bottom": null,
       "display": null,
       "flex": null,
       "flex_flow": null,
       "grid_area": null,
       "grid_auto_columns": null,
       "grid_auto_flow": null,
       "grid_auto_rows": null,
       "grid_column": null,
       "grid_gap": null,
       "grid_row": null,
       "grid_template_areas": null,
       "grid_template_columns": null,
       "grid_template_rows": null,
       "height": null,
       "justify_content": null,
       "justify_items": null,
       "left": null,
       "margin": null,
       "max_height": null,
       "max_width": null,
       "min_height": null,
       "min_width": null,
       "object_fit": null,
       "object_position": null,
       "order": null,
       "overflow": null,
       "overflow_x": null,
       "overflow_y": null,
       "padding": null,
       "right": null,
       "top": null,
       "visibility": null,
       "width": null
      }
     },
     "49b8d36795864277b0aa36a704f2ede7": {
      "model_module": "@jupyter-widgets/controls",
      "model_module_version": "1.5.0",
      "model_name": "ProgressStyleModel",
      "state": {
       "_model_module": "@jupyter-widgets/controls",
       "_model_module_version": "1.5.0",
       "_model_name": "ProgressStyleModel",
       "_view_count": null,
       "_view_module": "@jupyter-widgets/base",
       "_view_module_version": "1.2.0",
       "_view_name": "StyleView",
       "bar_color": null,
       "description_width": ""
      }
     },
     "4ca02550822e4cb5a565b2990eaef1b6": {
      "model_module": "@jupyter-widgets/base",
      "model_module_version": "1.2.0",
      "model_name": "LayoutModel",
      "state": {
       "_model_module": "@jupyter-widgets/base",
       "_model_module_version": "1.2.0",
       "_model_name": "LayoutModel",
       "_view_count": null,
       "_view_module": "@jupyter-widgets/base",
       "_view_module_version": "1.2.0",
       "_view_name": "LayoutView",
       "align_content": null,
       "align_items": null,
       "align_self": null,
       "border": null,
       "bottom": null,
       "display": null,
       "flex": null,
       "flex_flow": null,
       "grid_area": null,
       "grid_auto_columns": null,
       "grid_auto_flow": null,
       "grid_auto_rows": null,
       "grid_column": null,
       "grid_gap": null,
       "grid_row": null,
       "grid_template_areas": null,
       "grid_template_columns": null,
       "grid_template_rows": null,
       "height": null,
       "justify_content": null,
       "justify_items": null,
       "left": null,
       "margin": null,
       "max_height": null,
       "max_width": null,
       "min_height": null,
       "min_width": null,
       "object_fit": null,
       "object_position": null,
       "order": null,
       "overflow": null,
       "overflow_x": null,
       "overflow_y": null,
       "padding": null,
       "right": null,
       "top": null,
       "visibility": null,
       "width": null
      }
     },
     "4d098b5c4f2549259f8ab9afeb95d7ee": {
      "model_module": "@jupyter-widgets/controls",
      "model_module_version": "1.5.0",
      "model_name": "ProgressStyleModel",
      "state": {
       "_model_module": "@jupyter-widgets/controls",
       "_model_module_version": "1.5.0",
       "_model_name": "ProgressStyleModel",
       "_view_count": null,
       "_view_module": "@jupyter-widgets/base",
       "_view_module_version": "1.2.0",
       "_view_name": "StyleView",
       "bar_color": null,
       "description_width": ""
      }
     },
     "582addce3cdc49888dc94b1806a9e7e3": {
      "model_module": "@jupyter-widgets/base",
      "model_module_version": "1.2.0",
      "model_name": "LayoutModel",
      "state": {
       "_model_module": "@jupyter-widgets/base",
       "_model_module_version": "1.2.0",
       "_model_name": "LayoutModel",
       "_view_count": null,
       "_view_module": "@jupyter-widgets/base",
       "_view_module_version": "1.2.0",
       "_view_name": "LayoutView",
       "align_content": null,
       "align_items": null,
       "align_self": null,
       "border": null,
       "bottom": null,
       "display": null,
       "flex": null,
       "flex_flow": null,
       "grid_area": null,
       "grid_auto_columns": null,
       "grid_auto_flow": null,
       "grid_auto_rows": null,
       "grid_column": null,
       "grid_gap": null,
       "grid_row": null,
       "grid_template_areas": null,
       "grid_template_columns": null,
       "grid_template_rows": null,
       "height": null,
       "justify_content": null,
       "justify_items": null,
       "left": null,
       "margin": null,
       "max_height": null,
       "max_width": null,
       "min_height": null,
       "min_width": null,
       "object_fit": null,
       "object_position": null,
       "order": null,
       "overflow": null,
       "overflow_x": null,
       "overflow_y": null,
       "padding": null,
       "right": null,
       "top": null,
       "visibility": null,
       "width": null
      }
     },
     "5cfa1a67bfe84e3fa0d3ed32a60041a7": {
      "model_module": "@jupyter-widgets/controls",
      "model_module_version": "1.5.0",
      "model_name": "ProgressStyleModel",
      "state": {
       "_model_module": "@jupyter-widgets/controls",
       "_model_module_version": "1.5.0",
       "_model_name": "ProgressStyleModel",
       "_view_count": null,
       "_view_module": "@jupyter-widgets/base",
       "_view_module_version": "1.2.0",
       "_view_name": "StyleView",
       "bar_color": null,
       "description_width": ""
      }
     },
     "5e25c4cf8cd14289a02123e95fc3e26c": {
      "model_module": "@jupyter-widgets/controls",
      "model_module_version": "1.5.0",
      "model_name": "HTMLModel",
      "state": {
       "_dom_classes": [],
       "_model_module": "@jupyter-widgets/controls",
       "_model_module_version": "1.5.0",
       "_model_name": "HTMLModel",
       "_view_count": null,
       "_view_module": "@jupyter-widgets/controls",
       "_view_module_version": "1.5.0",
       "_view_name": "HTMLView",
       "description": "",
       "description_tooltip": null,
       "layout": "IPY_MODEL_0ceaa29a259144319d5ca5fd2c688f6d",
       "placeholder": "​",
       "style": "IPY_MODEL_202d1a8340dc48c5a6afb7cebc3b235d",
       "value": " 420M/420M [00:09&lt;00:00, 34.1MB/s]"
      }
     },
     "5fbbe30db00a4356bc8746266cb754b9": {
      "model_module": "@jupyter-widgets/controls",
      "model_module_version": "1.5.0",
      "model_name": "HTMLModel",
      "state": {
       "_dom_classes": [],
       "_model_module": "@jupyter-widgets/controls",
       "_model_module_version": "1.5.0",
       "_model_name": "HTMLModel",
       "_view_count": null,
       "_view_module": "@jupyter-widgets/controls",
       "_view_module_version": "1.5.0",
       "_view_name": "HTMLView",
       "description": "",
       "description_tooltip": null,
       "layout": "IPY_MODEL_61d22dde94f94ed88d0f4423e4b77def",
       "placeholder": "​",
       "style": "IPY_MODEL_76f59875eba6428aa1d72b8e6656e3d6",
       "value": "Downloading: 100%"
      }
     },
     "61d22dde94f94ed88d0f4423e4b77def": {
      "model_module": "@jupyter-widgets/base",
      "model_module_version": "1.2.0",
      "model_name": "LayoutModel",
      "state": {
       "_model_module": "@jupyter-widgets/base",
       "_model_module_version": "1.2.0",
       "_model_name": "LayoutModel",
       "_view_count": null,
       "_view_module": "@jupyter-widgets/base",
       "_view_module_version": "1.2.0",
       "_view_name": "LayoutView",
       "align_content": null,
       "align_items": null,
       "align_self": null,
       "border": null,
       "bottom": null,
       "display": null,
       "flex": null,
       "flex_flow": null,
       "grid_area": null,
       "grid_auto_columns": null,
       "grid_auto_flow": null,
       "grid_auto_rows": null,
       "grid_column": null,
       "grid_gap": null,
       "grid_row": null,
       "grid_template_areas": null,
       "grid_template_columns": null,
       "grid_template_rows": null,
       "height": null,
       "justify_content": null,
       "justify_items": null,
       "left": null,
       "margin": null,
       "max_height": null,
       "max_width": null,
       "min_height": null,
       "min_width": null,
       "object_fit": null,
       "object_position": null,
       "order": null,
       "overflow": null,
       "overflow_x": null,
       "overflow_y": null,
       "padding": null,
       "right": null,
       "top": null,
       "visibility": null,
       "width": null
      }
     },
     "61f1360b34814444af4f3c012598c055": {
      "model_module": "@jupyter-widgets/controls",
      "model_module_version": "1.5.0",
      "model_name": "HTMLModel",
      "state": {
       "_dom_classes": [],
       "_model_module": "@jupyter-widgets/controls",
       "_model_module_version": "1.5.0",
       "_model_name": "HTMLModel",
       "_view_count": null,
       "_view_module": "@jupyter-widgets/controls",
       "_view_module_version": "1.5.0",
       "_view_name": "HTMLView",
       "description": "",
       "description_tooltip": null,
       "layout": "IPY_MODEL_e4ec239b539a4219a49feefa799e5184",
       "placeholder": "​",
       "style": "IPY_MODEL_f211ae0396304015a0a1eae845f18c99",
       "value": "Downloading: 100%"
      }
     },
     "695ed950155f4897a555ce0928b90248": {
      "model_module": "@jupyter-widgets/controls",
      "model_module_version": "1.5.0",
      "model_name": "HBoxModel",
      "state": {
       "_dom_classes": [],
       "_model_module": "@jupyter-widgets/controls",
       "_model_module_version": "1.5.0",
       "_model_name": "HBoxModel",
       "_view_count": null,
       "_view_module": "@jupyter-widgets/controls",
       "_view_module_version": "1.5.0",
       "_view_name": "HBoxView",
       "box_style": "",
       "children": [
        "IPY_MODEL_f4dcdb629917402e92da7a4ebb1bf1ee",
        "IPY_MODEL_b34b7de717da44a18fbf34428741d2ad",
        "IPY_MODEL_835a1157da8d417b9793808cee5ab393"
       ],
       "layout": "IPY_MODEL_4603884423574051999b3d3ef7dac8e7"
      }
     },
     "6c823c183d1244af8bad54ffae504de5": {
      "model_module": "@jupyter-widgets/controls",
      "model_module_version": "1.5.0",
      "model_name": "ProgressStyleModel",
      "state": {
       "_model_module": "@jupyter-widgets/controls",
       "_model_module_version": "1.5.0",
       "_model_name": "ProgressStyleModel",
       "_view_count": null,
       "_view_module": "@jupyter-widgets/base",
       "_view_module_version": "1.2.0",
       "_view_name": "StyleView",
       "bar_color": null,
       "description_width": ""
      }
     },
     "75c44174c00e46ad8a372585e229cf99": {
      "model_module": "@jupyter-widgets/controls",
      "model_module_version": "1.5.0",
      "model_name": "HTMLModel",
      "state": {
       "_dom_classes": [],
       "_model_module": "@jupyter-widgets/controls",
       "_model_module_version": "1.5.0",
       "_model_name": "HTMLModel",
       "_view_count": null,
       "_view_module": "@jupyter-widgets/controls",
       "_view_module_version": "1.5.0",
       "_view_name": "HTMLView",
       "description": "",
       "description_tooltip": null,
       "layout": "IPY_MODEL_d6c67b10bb364ba6a9e8cc139f9fd220",
       "placeholder": "​",
       "style": "IPY_MODEL_87292d33868047dda1c01ef335503491",
       "value": " 226k/226k [00:00&lt;00:00, 770kB/s]"
      }
     },
     "76f59875eba6428aa1d72b8e6656e3d6": {
      "model_module": "@jupyter-widgets/controls",
      "model_module_version": "1.5.0",
      "model_name": "DescriptionStyleModel",
      "state": {
       "_model_module": "@jupyter-widgets/controls",
       "_model_module_version": "1.5.0",
       "_model_name": "DescriptionStyleModel",
       "_view_count": null,
       "_view_module": "@jupyter-widgets/base",
       "_view_module_version": "1.2.0",
       "_view_name": "StyleView",
       "description_width": ""
      }
     },
     "835a1157da8d417b9793808cee5ab393": {
      "model_module": "@jupyter-widgets/controls",
      "model_module_version": "1.5.0",
      "model_name": "HTMLModel",
      "state": {
       "_dom_classes": [],
       "_model_module": "@jupyter-widgets/controls",
       "_model_module_version": "1.5.0",
       "_model_name": "HTMLModel",
       "_view_count": null,
       "_view_module": "@jupyter-widgets/controls",
       "_view_module_version": "1.5.0",
       "_view_name": "HTMLView",
       "description": "",
       "description_tooltip": null,
       "layout": "IPY_MODEL_9325a0565c274746bbdb409bbcbb3cca",
       "placeholder": "​",
       "style": "IPY_MODEL_fe99ab17047d49bbb4fe4c3e5f41b1fd",
       "value": " 570/570 [00:00&lt;00:00, 20.7kB/s]"
      }
     },
     "87292d33868047dda1c01ef335503491": {
      "model_module": "@jupyter-widgets/controls",
      "model_module_version": "1.5.0",
      "model_name": "DescriptionStyleModel",
      "state": {
       "_model_module": "@jupyter-widgets/controls",
       "_model_module_version": "1.5.0",
       "_model_name": "DescriptionStyleModel",
       "_view_count": null,
       "_view_module": "@jupyter-widgets/base",
       "_view_module_version": "1.2.0",
       "_view_name": "StyleView",
       "description_width": ""
      }
     },
     "912274c2763f41bfac9853752a5813ae": {
      "model_module": "@jupyter-widgets/controls",
      "model_module_version": "1.5.0",
      "model_name": "DescriptionStyleModel",
      "state": {
       "_model_module": "@jupyter-widgets/controls",
       "_model_module_version": "1.5.0",
       "_model_name": "DescriptionStyleModel",
       "_view_count": null,
       "_view_module": "@jupyter-widgets/base",
       "_view_module_version": "1.2.0",
       "_view_name": "StyleView",
       "description_width": ""
      }
     },
     "9325a0565c274746bbdb409bbcbb3cca": {
      "model_module": "@jupyter-widgets/base",
      "model_module_version": "1.2.0",
      "model_name": "LayoutModel",
      "state": {
       "_model_module": "@jupyter-widgets/base",
       "_model_module_version": "1.2.0",
       "_model_name": "LayoutModel",
       "_view_count": null,
       "_view_module": "@jupyter-widgets/base",
       "_view_module_version": "1.2.0",
       "_view_name": "LayoutView",
       "align_content": null,
       "align_items": null,
       "align_self": null,
       "border": null,
       "bottom": null,
       "display": null,
       "flex": null,
       "flex_flow": null,
       "grid_area": null,
       "grid_auto_columns": null,
       "grid_auto_flow": null,
       "grid_auto_rows": null,
       "grid_column": null,
       "grid_gap": null,
       "grid_row": null,
       "grid_template_areas": null,
       "grid_template_columns": null,
       "grid_template_rows": null,
       "height": null,
       "justify_content": null,
       "justify_items": null,
       "left": null,
       "margin": null,
       "max_height": null,
       "max_width": null,
       "min_height": null,
       "min_width": null,
       "object_fit": null,
       "object_position": null,
       "order": null,
       "overflow": null,
       "overflow_x": null,
       "overflow_y": null,
       "padding": null,
       "right": null,
       "top": null,
       "visibility": null,
       "width": null
      }
     },
     "9a77f8f5c7834981b6a9540c8add3997": {
      "model_module": "@jupyter-widgets/base",
      "model_module_version": "1.2.0",
      "model_name": "LayoutModel",
      "state": {
       "_model_module": "@jupyter-widgets/base",
       "_model_module_version": "1.2.0",
       "_model_name": "LayoutModel",
       "_view_count": null,
       "_view_module": "@jupyter-widgets/base",
       "_view_module_version": "1.2.0",
       "_view_name": "LayoutView",
       "align_content": null,
       "align_items": null,
       "align_self": null,
       "border": null,
       "bottom": null,
       "display": null,
       "flex": null,
       "flex_flow": null,
       "grid_area": null,
       "grid_auto_columns": null,
       "grid_auto_flow": null,
       "grid_auto_rows": null,
       "grid_column": null,
       "grid_gap": null,
       "grid_row": null,
       "grid_template_areas": null,
       "grid_template_columns": null,
       "grid_template_rows": null,
       "height": null,
       "justify_content": null,
       "justify_items": null,
       "left": null,
       "margin": null,
       "max_height": null,
       "max_width": null,
       "min_height": null,
       "min_width": null,
       "object_fit": null,
       "object_position": null,
       "order": null,
       "overflow": null,
       "overflow_x": null,
       "overflow_y": null,
       "padding": null,
       "right": null,
       "top": null,
       "visibility": null,
       "width": null
      }
     },
     "a3b6c49674f944258b614b9bfb81693b": {
      "model_module": "@jupyter-widgets/controls",
      "model_module_version": "1.5.0",
      "model_name": "DescriptionStyleModel",
      "state": {
       "_model_module": "@jupyter-widgets/controls",
       "_model_module_version": "1.5.0",
       "_model_name": "DescriptionStyleModel",
       "_view_count": null,
       "_view_module": "@jupyter-widgets/base",
       "_view_module_version": "1.2.0",
       "_view_name": "StyleView",
       "description_width": ""
      }
     },
     "ae804f7fbf5141b0ab66a7380a08bc38": {
      "model_module": "@jupyter-widgets/base",
      "model_module_version": "1.2.0",
      "model_name": "LayoutModel",
      "state": {
       "_model_module": "@jupyter-widgets/base",
       "_model_module_version": "1.2.0",
       "_model_name": "LayoutModel",
       "_view_count": null,
       "_view_module": "@jupyter-widgets/base",
       "_view_module_version": "1.2.0",
       "_view_name": "LayoutView",
       "align_content": null,
       "align_items": null,
       "align_self": null,
       "border": null,
       "bottom": null,
       "display": null,
       "flex": null,
       "flex_flow": null,
       "grid_area": null,
       "grid_auto_columns": null,
       "grid_auto_flow": null,
       "grid_auto_rows": null,
       "grid_column": null,
       "grid_gap": null,
       "grid_row": null,
       "grid_template_areas": null,
       "grid_template_columns": null,
       "grid_template_rows": null,
       "height": null,
       "justify_content": null,
       "justify_items": null,
       "left": null,
       "margin": null,
       "max_height": null,
       "max_width": null,
       "min_height": null,
       "min_width": null,
       "object_fit": null,
       "object_position": null,
       "order": null,
       "overflow": null,
       "overflow_x": null,
       "overflow_y": null,
       "padding": null,
       "right": null,
       "top": null,
       "visibility": null,
       "width": null
      }
     },
     "b34b7de717da44a18fbf34428741d2ad": {
      "model_module": "@jupyter-widgets/controls",
      "model_module_version": "1.5.0",
      "model_name": "FloatProgressModel",
      "state": {
       "_dom_classes": [],
       "_model_module": "@jupyter-widgets/controls",
       "_model_module_version": "1.5.0",
       "_model_name": "FloatProgressModel",
       "_view_count": null,
       "_view_module": "@jupyter-widgets/controls",
       "_view_module_version": "1.5.0",
       "_view_name": "ProgressView",
       "bar_style": "success",
       "description": "",
       "description_tooltip": null,
       "layout": "IPY_MODEL_ec1099ffe56e4a5eb0eacf9990edd8c8",
       "max": 570.0,
       "min": 0.0,
       "orientation": "horizontal",
       "style": "IPY_MODEL_49b8d36795864277b0aa36a704f2ede7",
       "value": 570.0
      }
     },
     "bbb1b960ffe64b47830f5ded5a54c650": {
      "model_module": "@jupyter-widgets/controls",
      "model_module_version": "1.5.0",
      "model_name": "HBoxModel",
      "state": {
       "_dom_classes": [],
       "_model_module": "@jupyter-widgets/controls",
       "_model_module_version": "1.5.0",
       "_model_name": "HBoxModel",
       "_view_count": null,
       "_view_module": "@jupyter-widgets/controls",
       "_view_module_version": "1.5.0",
       "_view_name": "HBoxView",
       "box_style": "",
       "children": [
        "IPY_MODEL_5fbbe30db00a4356bc8746266cb754b9",
        "IPY_MODEL_d31cea729f9f494e8081f7c3967b8c28",
        "IPY_MODEL_5e25c4cf8cd14289a02123e95fc3e26c"
       ],
       "layout": "IPY_MODEL_22952ec0ee2f43cfbe0b6af3a3274c98"
      }
     },
     "d318dc0ee9a24fdc8277d487ef87ca38": {
      "model_module": "@jupyter-widgets/controls",
      "model_module_version": "1.5.0",
      "model_name": "FloatProgressModel",
      "state": {
       "_dom_classes": [],
       "_model_module": "@jupyter-widgets/controls",
       "_model_module_version": "1.5.0",
       "_model_name": "FloatProgressModel",
       "_view_count": null,
       "_view_module": "@jupyter-widgets/controls",
       "_view_module_version": "1.5.0",
       "_view_name": "ProgressView",
       "bar_style": "success",
       "description": "",
       "description_tooltip": null,
       "layout": "IPY_MODEL_0f81e08eef8546b1b920177752f441a4",
       "max": 28.0,
       "min": 0.0,
       "orientation": "horizontal",
       "style": "IPY_MODEL_6c823c183d1244af8bad54ffae504de5",
       "value": 28.0
      }
     },
     "d31cea729f9f494e8081f7c3967b8c28": {
      "model_module": "@jupyter-widgets/controls",
      "model_module_version": "1.5.0",
      "model_name": "FloatProgressModel",
      "state": {
       "_dom_classes": [],
       "_model_module": "@jupyter-widgets/controls",
       "_model_module_version": "1.5.0",
       "_model_name": "FloatProgressModel",
       "_view_count": null,
       "_view_module": "@jupyter-widgets/controls",
       "_view_module_version": "1.5.0",
       "_view_name": "ProgressView",
       "bar_style": "success",
       "description": "",
       "description_tooltip": null,
       "layout": "IPY_MODEL_9a77f8f5c7834981b6a9540c8add3997",
       "max": 440473133.0,
       "min": 0.0,
       "orientation": "horizontal",
       "style": "IPY_MODEL_5cfa1a67bfe84e3fa0d3ed32a60041a7",
       "value": 440473133.0
      }
     },
     "d6c67b10bb364ba6a9e8cc139f9fd220": {
      "model_module": "@jupyter-widgets/base",
      "model_module_version": "1.2.0",
      "model_name": "LayoutModel",
      "state": {
       "_model_module": "@jupyter-widgets/base",
       "_model_module_version": "1.2.0",
       "_model_name": "LayoutModel",
       "_view_count": null,
       "_view_module": "@jupyter-widgets/base",
       "_view_module_version": "1.2.0",
       "_view_name": "LayoutView",
       "align_content": null,
       "align_items": null,
       "align_self": null,
       "border": null,
       "bottom": null,
       "display": null,
       "flex": null,
       "flex_flow": null,
       "grid_area": null,
       "grid_auto_columns": null,
       "grid_auto_flow": null,
       "grid_auto_rows": null,
       "grid_column": null,
       "grid_gap": null,
       "grid_row": null,
       "grid_template_areas": null,
       "grid_template_columns": null,
       "grid_template_rows": null,
       "height": null,
       "justify_content": null,
       "justify_items": null,
       "left": null,
       "margin": null,
       "max_height": null,
       "max_width": null,
       "min_height": null,
       "min_width": null,
       "object_fit": null,
       "object_position": null,
       "order": null,
       "overflow": null,
       "overflow_x": null,
       "overflow_y": null,
       "padding": null,
       "right": null,
       "top": null,
       "visibility": null,
       "width": null
      }
     },
     "db65c217b7a44177a1ee0599328400ec": {
      "model_module": "@jupyter-widgets/controls",
      "model_module_version": "1.5.0",
      "model_name": "FloatProgressModel",
      "state": {
       "_dom_classes": [],
       "_model_module": "@jupyter-widgets/controls",
       "_model_module_version": "1.5.0",
       "_model_name": "FloatProgressModel",
       "_view_count": null,
       "_view_module": "@jupyter-widgets/controls",
       "_view_module_version": "1.5.0",
       "_view_name": "ProgressView",
       "bar_style": "success",
       "description": "",
       "description_tooltip": null,
       "layout": "IPY_MODEL_582addce3cdc49888dc94b1806a9e7e3",
       "max": 231508.0,
       "min": 0.0,
       "orientation": "horizontal",
       "style": "IPY_MODEL_4d098b5c4f2549259f8ab9afeb95d7ee",
       "value": 231508.0
      }
     },
     "dcce772ec58c477eaa769d914a43aa10": {
      "model_module": "@jupyter-widgets/controls",
      "model_module_version": "1.5.0",
      "model_name": "HBoxModel",
      "state": {
       "_dom_classes": [],
       "_model_module": "@jupyter-widgets/controls",
       "_model_module_version": "1.5.0",
       "_model_name": "HBoxModel",
       "_view_count": null,
       "_view_module": "@jupyter-widgets/controls",
       "_view_module_version": "1.5.0",
       "_view_name": "HBoxView",
       "box_style": "",
       "children": [
        "IPY_MODEL_241a464980c04f03a5c2e293069fd271",
        "IPY_MODEL_d318dc0ee9a24fdc8277d487ef87ca38",
        "IPY_MODEL_4457c2a9d02d4bf7acbdb54d953996c8"
       ],
       "layout": "IPY_MODEL_4ca02550822e4cb5a565b2990eaef1b6"
      }
     },
     "e11b486e0283493eb6782e58c41f3bd7": {
      "model_module": "@jupyter-widgets/controls",
      "model_module_version": "1.5.0",
      "model_name": "HBoxModel",
      "state": {
       "_dom_classes": [],
       "_model_module": "@jupyter-widgets/controls",
       "_model_module_version": "1.5.0",
       "_model_name": "HBoxModel",
       "_view_count": null,
       "_view_module": "@jupyter-widgets/controls",
       "_view_module_version": "1.5.0",
       "_view_name": "HBoxView",
       "box_style": "",
       "children": [
        "IPY_MODEL_61f1360b34814444af4f3c012598c055",
        "IPY_MODEL_db65c217b7a44177a1ee0599328400ec",
        "IPY_MODEL_75c44174c00e46ad8a372585e229cf99"
       ],
       "layout": "IPY_MODEL_ea76de7b957945cca98e28fc7f03e892"
      }
     },
     "e4ec239b539a4219a49feefa799e5184": {
      "model_module": "@jupyter-widgets/base",
      "model_module_version": "1.2.0",
      "model_name": "LayoutModel",
      "state": {
       "_model_module": "@jupyter-widgets/base",
       "_model_module_version": "1.2.0",
       "_model_name": "LayoutModel",
       "_view_count": null,
       "_view_module": "@jupyter-widgets/base",
       "_view_module_version": "1.2.0",
       "_view_name": "LayoutView",
       "align_content": null,
       "align_items": null,
       "align_self": null,
       "border": null,
       "bottom": null,
       "display": null,
       "flex": null,
       "flex_flow": null,
       "grid_area": null,
       "grid_auto_columns": null,
       "grid_auto_flow": null,
       "grid_auto_rows": null,
       "grid_column": null,
       "grid_gap": null,
       "grid_row": null,
       "grid_template_areas": null,
       "grid_template_columns": null,
       "grid_template_rows": null,
       "height": null,
       "justify_content": null,
       "justify_items": null,
       "left": null,
       "margin": null,
       "max_height": null,
       "max_width": null,
       "min_height": null,
       "min_width": null,
       "object_fit": null,
       "object_position": null,
       "order": null,
       "overflow": null,
       "overflow_x": null,
       "overflow_y": null,
       "padding": null,
       "right": null,
       "top": null,
       "visibility": null,
       "width": null
      }
     },
     "e5be7e9f2a3443cb99a77ffd4671a8f0": {
      "model_module": "@jupyter-widgets/base",
      "model_module_version": "1.2.0",
      "model_name": "LayoutModel",
      "state": {
       "_model_module": "@jupyter-widgets/base",
       "_model_module_version": "1.2.0",
       "_model_name": "LayoutModel",
       "_view_count": null,
       "_view_module": "@jupyter-widgets/base",
       "_view_module_version": "1.2.0",
       "_view_name": "LayoutView",
       "align_content": null,
       "align_items": null,
       "align_self": null,
       "border": null,
       "bottom": null,
       "display": null,
       "flex": null,
       "flex_flow": null,
       "grid_area": null,
       "grid_auto_columns": null,
       "grid_auto_flow": null,
       "grid_auto_rows": null,
       "grid_column": null,
       "grid_gap": null,
       "grid_row": null,
       "grid_template_areas": null,
       "grid_template_columns": null,
       "grid_template_rows": null,
       "height": null,
       "justify_content": null,
       "justify_items": null,
       "left": null,
       "margin": null,
       "max_height": null,
       "max_width": null,
       "min_height": null,
       "min_width": null,
       "object_fit": null,
       "object_position": null,
       "order": null,
       "overflow": null,
       "overflow_x": null,
       "overflow_y": null,
       "padding": null,
       "right": null,
       "top": null,
       "visibility": null,
       "width": null
      }
     },
     "ea76de7b957945cca98e28fc7f03e892": {
      "model_module": "@jupyter-widgets/base",
      "model_module_version": "1.2.0",
      "model_name": "LayoutModel",
      "state": {
       "_model_module": "@jupyter-widgets/base",
       "_model_module_version": "1.2.0",
       "_model_name": "LayoutModel",
       "_view_count": null,
       "_view_module": "@jupyter-widgets/base",
       "_view_module_version": "1.2.0",
       "_view_name": "LayoutView",
       "align_content": null,
       "align_items": null,
       "align_self": null,
       "border": null,
       "bottom": null,
       "display": null,
       "flex": null,
       "flex_flow": null,
       "grid_area": null,
       "grid_auto_columns": null,
       "grid_auto_flow": null,
       "grid_auto_rows": null,
       "grid_column": null,
       "grid_gap": null,
       "grid_row": null,
       "grid_template_areas": null,
       "grid_template_columns": null,
       "grid_template_rows": null,
       "height": null,
       "justify_content": null,
       "justify_items": null,
       "left": null,
       "margin": null,
       "max_height": null,
       "max_width": null,
       "min_height": null,
       "min_width": null,
       "object_fit": null,
       "object_position": null,
       "order": null,
       "overflow": null,
       "overflow_x": null,
       "overflow_y": null,
       "padding": null,
       "right": null,
       "top": null,
       "visibility": null,
       "width": null
      }
     },
     "ec1099ffe56e4a5eb0eacf9990edd8c8": {
      "model_module": "@jupyter-widgets/base",
      "model_module_version": "1.2.0",
      "model_name": "LayoutModel",
      "state": {
       "_model_module": "@jupyter-widgets/base",
       "_model_module_version": "1.2.0",
       "_model_name": "LayoutModel",
       "_view_count": null,
       "_view_module": "@jupyter-widgets/base",
       "_view_module_version": "1.2.0",
       "_view_name": "LayoutView",
       "align_content": null,
       "align_items": null,
       "align_self": null,
       "border": null,
       "bottom": null,
       "display": null,
       "flex": null,
       "flex_flow": null,
       "grid_area": null,
       "grid_auto_columns": null,
       "grid_auto_flow": null,
       "grid_auto_rows": null,
       "grid_column": null,
       "grid_gap": null,
       "grid_row": null,
       "grid_template_areas": null,
       "grid_template_columns": null,
       "grid_template_rows": null,
       "height": null,
       "justify_content": null,
       "justify_items": null,
       "left": null,
       "margin": null,
       "max_height": null,
       "max_width": null,
       "min_height": null,
       "min_width": null,
       "object_fit": null,
       "object_position": null,
       "order": null,
       "overflow": null,
       "overflow_x": null,
       "overflow_y": null,
       "padding": null,
       "right": null,
       "top": null,
       "visibility": null,
       "width": null
      }
     },
     "f211ae0396304015a0a1eae845f18c99": {
      "model_module": "@jupyter-widgets/controls",
      "model_module_version": "1.5.0",
      "model_name": "DescriptionStyleModel",
      "state": {
       "_model_module": "@jupyter-widgets/controls",
       "_model_module_version": "1.5.0",
       "_model_name": "DescriptionStyleModel",
       "_view_count": null,
       "_view_module": "@jupyter-widgets/base",
       "_view_module_version": "1.2.0",
       "_view_name": "StyleView",
       "description_width": ""
      }
     },
     "f4dcdb629917402e92da7a4ebb1bf1ee": {
      "model_module": "@jupyter-widgets/controls",
      "model_module_version": "1.5.0",
      "model_name": "HTMLModel",
      "state": {
       "_dom_classes": [],
       "_model_module": "@jupyter-widgets/controls",
       "_model_module_version": "1.5.0",
       "_model_name": "HTMLModel",
       "_view_count": null,
       "_view_module": "@jupyter-widgets/controls",
       "_view_module_version": "1.5.0",
       "_view_name": "HTMLView",
       "description": "",
       "description_tooltip": null,
       "layout": "IPY_MODEL_4304f428ba89411d97a2ec095937252d",
       "placeholder": "​",
       "style": "IPY_MODEL_a3b6c49674f944258b614b9bfb81693b",
       "value": "Downloading: 100%"
      }
     },
     "fcb5e32415474d1db3a6cc5bb2c379fc": {
      "model_module": "@jupyter-widgets/controls",
      "model_module_version": "1.5.0",
      "model_name": "DescriptionStyleModel",
      "state": {
       "_model_module": "@jupyter-widgets/controls",
       "_model_module_version": "1.5.0",
       "_model_name": "DescriptionStyleModel",
       "_view_count": null,
       "_view_module": "@jupyter-widgets/base",
       "_view_module_version": "1.2.0",
       "_view_name": "StyleView",
       "description_width": ""
      }
     },
     "fe99ab17047d49bbb4fe4c3e5f41b1fd": {
      "model_module": "@jupyter-widgets/controls",
      "model_module_version": "1.5.0",
      "model_name": "DescriptionStyleModel",
      "state": {
       "_model_module": "@jupyter-widgets/controls",
       "_model_module_version": "1.5.0",
       "_model_name": "DescriptionStyleModel",
       "_view_count": null,
       "_view_module": "@jupyter-widgets/base",
       "_view_module_version": "1.2.0",
       "_view_name": "StyleView",
       "description_width": ""
      }
     }
    },
    "version_major": 2,
    "version_minor": 0
   }
  }
 },
 "nbformat": 4,
 "nbformat_minor": 5
}
